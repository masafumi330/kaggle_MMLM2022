{
 "cells": [
  {
   "cell_type": "markdown",
   "id": "1d2bad47",
   "metadata": {
    "id": "kaMFhcqLKRmf",
    "papermill": {
     "duration": 0.067957,
     "end_time": "2022-02-26T17:42:02.802839",
     "exception": false,
     "start_time": "2022-02-26T17:42:02.734882",
     "status": "completed"
    },
    "tags": []
   },
   "source": [
    "[![](https://img.youtube.com/vi/FnV0thLS1Fs/0.jpg)](https://www.youtube.com/watch?v=FnV0thLS1Fs)"
   ]
  },
  {
   "cell_type": "markdown",
   "id": "e18ca9e0",
   "metadata": {
    "id": "3aM8dNjwKVmY",
    "papermill": {
     "duration": 0.078824,
     "end_time": "2022-02-26T17:42:02.949408",
     "exception": false,
     "start_time": "2022-02-26T17:42:02.870584",
     "status": "completed"
    },
    "tags": []
   },
   "source": [
    "pixyz  \n",
    "last update 2022 02 26  \n",
    "ゆっくりしていってね！  "
   ]
  },
  {
   "cell_type": "markdown",
   "id": "a8b08d5c",
   "metadata": {
    "id": "PgIt2tfOKYvb",
    "papermill": {
     "duration": 0.039936,
     "end_time": "2022-02-26T17:42:03.050796",
     "exception": false,
     "start_time": "2022-02-26T17:42:03.010860",
     "status": "completed"
    },
    "tags": []
   },
   "source": [
    "**霊夢：今回は回帰タスクのコンペかな？  \n",
    "魔理沙：まずは概要を読んでみよう。**\n",
    "\n",
    "**Reimu: Is this a regression task competition?  \n",
    "Marisa: First, let's read the overview.**"
   ]
  },
  {
   "cell_type": "markdown",
   "id": "e8c233a0",
   "metadata": {
    "papermill": {
     "duration": 0.038626,
     "end_time": "2022-02-26T17:42:03.128575",
     "exception": false,
     "start_time": "2022-02-26T17:42:03.089949",
     "status": "completed"
    },
    "tags": []
   },
   "source": [
    "別の年、動揺を予測し、確率を呼び出し、ブラケット学のスキルをリーダーボードテストにかける別のチャンス。3月に開催される第8回機械学習マニア大会では、カグラーズが今年の米国男子大学バスケットボールトーナメントの結果を予測しようとする何百万人ものファンに再び参加します。しかし、ほとんどのファンとは異なり、豊富な履歴データと計算能力の組み合わせを使用して勝者と敗者を選び、テレビでグラウンドトゥルースが展開されます。\n",
    "\n",
    "過去のNCAAゲームのデータが提供されており、他の公開されているデータソースを使用して勝利を収めることをお勧めします。\n",
    "\n",
    "この2段階のコンテストの第1段階では、参加者は以前のトーナメントに対してモデルを作成してテストします。第2段階では、参加者は2022年のトーナメントの結果を予測します。2番目のステージに入るのに最初のステージに参加する必要はありません。最初の段階は、モデル構築を奨励し、予測をスコアリングする手段を提供するために存在します。実際の競争は2022年の結果を予測しています。\n",
    "\n",
    "そして、米国の女子大学バスケットボールトーナメントの結果を予測するために見られる私たちのコンパニオンコンペティションを見るのを忘れないでください！\n",
    "\n",
    "Another year, another chance to predict the upsets, call the probabilities, and put your bracketology skills to the leaderboard test. In our eighth annual March Machine Learning Mania competition, Kagglers will once again join the millions of fans who attempt to predict the outcomes of this year's US men's college basketball tournament. But unlike most fans, you will pick the winners and losers using a combination of rich historical data and computing power, while the ground truth unfolds on television.\n",
    "\n",
    "You're provided data of historical NCAA games and are encouraged to use other sources of publicly available data to gain a winning edge.\n",
    "\n",
    "In stage one of this two-stage competition, participants will build and test their models against previous tournaments. In the second stage, participants will predict the outcome of the 2022 tournament. You don’t need to participate in the first stage to enter the second. The first stage exists to incentivize model building and provide a means to score predictions. The real competition is forecasting the 2022 results.\n",
    "\n",
    "And don't forget to take a look at our companion competition that looks to predict the outcome of the US women's college basketball tournament!\n",
    "\n",
    "<img src = \"https://storage.googleapis.com/kaggle-competitions/kaggle/4862/media/bball-logo.png\" width = 700>"
   ]
  },
  {
   "cell_type": "markdown",
   "id": "583b5393",
   "metadata": {
    "id": "8eZi9TNGKdl3",
    "papermill": {
     "duration": 0.067084,
     "end_time": "2022-02-26T17:42:03.239005",
     "exception": false,
     "start_time": "2022-02-26T17:42:03.171921",
     "status": "completed"
    },
    "tags": []
   },
   "source": [
    "**魔理沙:今回はlightgbmを使ったbaselineを作っていくよ。  \n",
    "霊夢：今回はデータの種類がとても多いね。あれ？trainデータはどこ？  \n",
    "魔理沙:trainデータは自分でいくつかのデータを組み合わせて作るしかないみたいだな。これは骨が折れそうだ。**\n",
    "\n",
    "**Marisa: This time I'm going to make a baseline using lightgbm.  \n",
    "Reimu: There are so many types of data this time. that? Where is the train data?  \n",
    "Marisa: It seems that train data can only be created by combining some data. This is going to be a pain.**"
   ]
  },
  {
   "cell_type": "markdown",
   "id": "968a0347",
   "metadata": {
    "papermill": {
     "duration": 0.038934,
     "end_time": "2022-02-26T17:42:03.321337",
     "exception": false,
     "start_time": "2022-02-26T17:42:03.282403",
     "status": "completed"
    },
    "tags": []
   },
   "source": [
    "<img src = \"https://4.bp.blogspot.com/-uoVuBWIbdiA/WvQHqpx_YCI/AAAAAAABL8g/NiFZ6K71VBc_0_dcKb3_4nhnvFJ_JMNuACLcBGAs/s450/network_dennou_sekai_figure.png\" width = 200>"
   ]
  },
  {
   "cell_type": "markdown",
   "id": "073874ab",
   "metadata": {
    "papermill": {
     "duration": 0.038665,
     "end_time": "2022-02-26T17:42:03.399373",
     "exception": false,
     "start_time": "2022-02-26T17:42:03.360708",
     "status": "completed"
    },
    "tags": []
   },
   "source": [
    "# Import"
   ]
  },
  {
   "cell_type": "code",
   "execution_count": 1,
   "id": "f2152ff2",
   "metadata": {
    "execution": {
     "iopub.execute_input": "2022-02-26T17:42:03.488523Z",
     "iopub.status.busy": "2022-02-26T17:42:03.487862Z",
     "iopub.status.idle": "2022-02-26T17:42:06.302285Z",
     "shell.execute_reply": "2022-02-26T17:42:06.301600Z",
     "shell.execute_reply.started": "2022-02-26T17:36:54.252175Z"
    },
    "papermill": {
     "duration": 2.863669,
     "end_time": "2022-02-26T17:42:06.302434",
     "exception": false,
     "start_time": "2022-02-26T17:42:03.438765",
     "status": "completed"
    },
    "tags": []
   },
   "outputs": [],
   "source": [
    "import pandas as pd\n",
    "import os.path as osp\n",
    "import numpy as np\n",
    "import random\n",
    "import time\n",
    "import gc\n",
    "from sklearn.model_selection import StratifiedKFold\n",
    "from sklearn.metrics import mean_squared_error\n",
    "from lightgbm import LGBMRegressor\n",
    "from catboost import CatBoostRegressor\n",
    "import matplotlib.pylab as plt\n",
    "import seaborn as sns"
   ]
  },
  {
   "cell_type": "code",
   "execution_count": 2,
   "id": "31ae9e4a",
   "metadata": {},
   "outputs": [],
   "source": [
    "DATA_PATH = 'data/MDataFiles_Stage1/'"
   ]
  },
  {
   "cell_type": "markdown",
   "id": "605832d8",
   "metadata": {
    "papermill": {
     "duration": 0.039895,
     "end_time": "2022-02-26T17:42:06.382144",
     "exception": false,
     "start_time": "2022-02-26T17:42:06.342249",
     "status": "completed"
    },
    "tags": []
   },
   "source": [
    "# Config"
   ]
  },
  {
   "cell_type": "code",
   "execution_count": 3,
   "id": "3c659002",
   "metadata": {
    "execution": {
     "iopub.execute_input": "2022-02-26T17:42:06.468456Z",
     "iopub.status.busy": "2022-02-26T17:42:06.466831Z",
     "iopub.status.idle": "2022-02-26T17:42:06.469057Z",
     "shell.execute_reply": "2022-02-26T17:42:06.469450Z",
     "shell.execute_reply.started": "2022-02-26T17:36:57.504653Z"
    },
    "papermill": {
     "duration": 0.046993,
     "end_time": "2022-02-26T17:42:06.469578",
     "exception": false,
     "start_time": "2022-02-26T17:42:06.422585",
     "status": "completed"
    },
    "tags": []
   },
   "outputs": [],
   "source": [
    "class config:    \n",
    "    \n",
    "    SEED = 42\n",
    "    FOLD_TO_RUN = 0\n",
    "    FOLDS = 5\n",
    "    EARLY_STOPPING_ROUNDS = 200\n",
    "    VERBOSE = 1000\n",
    "    \n",
    "    model_type = 'lgb_regression'  \n",
    "    EPOCHS = 20000\n",
    "    LR = 2e-4\n",
    "    message='baseline'\n",
    "    TARGET = 'target'\n",
    "    \n",
    "    TEST = False"
   ]
  },
  {
   "cell_type": "code",
   "execution_count": 4,
   "id": "176c2499",
   "metadata": {
    "execution": {
     "iopub.execute_input": "2022-02-26T17:42:06.553319Z",
     "iopub.status.busy": "2022-02-26T17:42:06.551772Z",
     "iopub.status.idle": "2022-02-26T17:42:06.553936Z",
     "shell.execute_reply": "2022-02-26T17:42:06.554329Z",
     "shell.execute_reply.started": "2022-02-26T17:36:57.512006Z"
    },
    "papermill": {
     "duration": 0.045528,
     "end_time": "2022-02-26T17:42:06.554449",
     "exception": false,
     "start_time": "2022-02-26T17:42:06.508921",
     "status": "completed"
    },
    "tags": []
   },
   "outputs": [],
   "source": [
    "if config.TEST:\n",
    "    config.EPOCHS = 100"
   ]
  },
  {
   "cell_type": "markdown",
   "id": "a8150822",
   "metadata": {
    "papermill": {
     "duration": 0.038698,
     "end_time": "2022-02-26T17:42:06.632228",
     "exception": false,
     "start_time": "2022-02-26T17:42:06.593530",
     "status": "completed"
    },
    "tags": []
   },
   "source": [
    "**魔理沙:今回はFOLD5、EPOCH20000で学習をしていくぜ**  \n",
    "\n",
    "**Marisa: This time, I'll study with FOLD5 and EPOCH20000**"
   ]
  },
  {
   "cell_type": "markdown",
   "id": "d200ed38",
   "metadata": {
    "papermill": {
     "duration": 0.038608,
     "end_time": "2022-02-26T17:42:06.710055",
     "exception": false,
     "start_time": "2022-02-26T17:42:06.671447",
     "status": "completed"
    },
    "tags": []
   },
   "source": [
    "# Data"
   ]
  },
  {
   "cell_type": "markdown",
   "id": "19daeb20",
   "metadata": {
    "id": "Q2U_WmKrKxA0",
    "papermill": {
     "duration": 0.040078,
     "end_time": "2022-02-26T17:42:06.790798",
     "exception": false,
     "start_time": "2022-02-26T17:42:06.750720",
     "status": "completed"
    },
    "tags": []
   },
   "source": [
    "**魔理沙:データは以下の通りだぜ。**  \n",
    "\n",
    "**Marisa: The data is as follows.**"
   ]
  },
  {
   "cell_type": "code",
   "execution_count": 5,
   "id": "51c832e2",
   "metadata": {
    "execution": {
     "iopub.execute_input": "2022-02-26T17:42:06.877230Z",
     "iopub.status.busy": "2022-02-26T17:42:06.876643Z",
     "iopub.status.idle": "2022-02-26T17:42:07.566510Z",
     "shell.execute_reply": "2022-02-26T17:42:07.566001Z",
     "shell.execute_reply.started": "2022-02-26T17:36:57.525311Z"
    },
    "papermill": {
     "duration": 0.735378,
     "end_time": "2022-02-26T17:42:07.566655",
     "exception": false,
     "start_time": "2022-02-26T17:42:06.831277",
     "status": "completed"
    },
    "tags": []
   },
   "outputs": [
    {
     "name": "stdout",
     "output_type": "stream",
     "text": [
      "Cities.csv\t\t\t MRegularSeasonCompactResults.csv\n",
      "Conferences.csv\t\t\t MRegularSeasonDetailedResults.csv\n",
      "MConferenceTourneyGames.csv\t MSampleSubmissionStage1.csv\n",
      "MGameCities.csv\t\t\t MSeasons.csv\n",
      "MMasseyOrdinals.csv\t\t MSecondaryTourneyCompactResults.csv\n",
      "MNCAATourneyCompactResults.csv\t MSecondaryTourneyTeams.csv\n",
      "MNCAATourneyDetailedResults.csv  MTeamCoaches.csv\n",
      "MNCAATourneySeedRoundSlots.csv\t MTeamConferences.csv\n",
      "MNCAATourneySeeds.csv\t\t MTeamSpellings.csv\n",
      "MNCAATourneySlots.csv\t\t MTeams.csv\n"
     ]
    }
   ],
   "source": [
    "!ls /workspace/data/MDataFiles_Stage1"
   ]
  },
  {
   "cell_type": "markdown",
   "id": "d898940c",
   "metadata": {
    "papermill": {
     "duration": 0.039317,
     "end_time": "2022-02-26T17:42:07.646484",
     "exception": false,
     "start_time": "2022-02-26T17:42:07.607167",
     "status": "completed"
    },
    "tags": []
   },
   "source": [
    "**霊夢:一番大事なデータはどれだろう？  \n",
    "魔理沙:まずはMNCAATourneyDetailedResultsかな。これを主軸にやっていくぜ。**\n",
    "\n",
    "**Reimu: Which is the most important data?  \n",
    "Marisa: First of all, MNCAA Tourney Detailed Results. Let's do this as the main axis.**"
   ]
  },
  {
   "cell_type": "code",
   "execution_count": 6,
   "id": "b107a68c",
   "metadata": {
    "execution": {
     "iopub.execute_input": "2022-02-26T17:42:07.731427Z",
     "iopub.status.busy": "2022-02-26T17:42:07.730768Z",
     "iopub.status.idle": "2022-02-26T17:42:08.094502Z",
     "shell.execute_reply": "2022-02-26T17:42:08.094062Z",
     "shell.execute_reply.started": "2022-02-26T17:36:58.190142Z"
    },
    "papermill": {
     "duration": 0.408297,
     "end_time": "2022-02-26T17:42:08.094650",
     "exception": false,
     "start_time": "2022-02-26T17:42:07.686353",
     "status": "completed"
    },
    "tags": []
   },
   "outputs": [
    {
     "data": {
      "text/html": [
       "<div>\n",
       "<style scoped>\n",
       "    .dataframe tbody tr th:only-of-type {\n",
       "        vertical-align: middle;\n",
       "    }\n",
       "\n",
       "    .dataframe tbody tr th {\n",
       "        vertical-align: top;\n",
       "    }\n",
       "\n",
       "    .dataframe thead th {\n",
       "        text-align: right;\n",
       "    }\n",
       "</style>\n",
       "<table border=\"1\" class=\"dataframe\">\n",
       "  <thead>\n",
       "    <tr style=\"text-align: right;\">\n",
       "      <th></th>\n",
       "      <th>Season</th>\n",
       "      <th>DayNum</th>\n",
       "      <th>WTeamID</th>\n",
       "      <th>WScore</th>\n",
       "      <th>LTeamID</th>\n",
       "      <th>LScore</th>\n",
       "      <th>WLoc</th>\n",
       "      <th>NumOT</th>\n",
       "      <th>WFGM</th>\n",
       "      <th>WFGA</th>\n",
       "      <th>...</th>\n",
       "      <th>LFGA3</th>\n",
       "      <th>LFTM</th>\n",
       "      <th>LFTA</th>\n",
       "      <th>LOR</th>\n",
       "      <th>LDR</th>\n",
       "      <th>LAst</th>\n",
       "      <th>LTO</th>\n",
       "      <th>LStl</th>\n",
       "      <th>LBlk</th>\n",
       "      <th>LPF</th>\n",
       "    </tr>\n",
       "  </thead>\n",
       "  <tbody>\n",
       "    <tr>\n",
       "      <th>0</th>\n",
       "      <td>2003</td>\n",
       "      <td>134</td>\n",
       "      <td>1421</td>\n",
       "      <td>92</td>\n",
       "      <td>1411</td>\n",
       "      <td>84</td>\n",
       "      <td>N</td>\n",
       "      <td>1</td>\n",
       "      <td>32</td>\n",
       "      <td>69</td>\n",
       "      <td>...</td>\n",
       "      <td>31</td>\n",
       "      <td>14</td>\n",
       "      <td>31</td>\n",
       "      <td>17</td>\n",
       "      <td>28</td>\n",
       "      <td>16</td>\n",
       "      <td>15</td>\n",
       "      <td>5</td>\n",
       "      <td>0</td>\n",
       "      <td>22</td>\n",
       "    </tr>\n",
       "    <tr>\n",
       "      <th>1</th>\n",
       "      <td>2003</td>\n",
       "      <td>136</td>\n",
       "      <td>1112</td>\n",
       "      <td>80</td>\n",
       "      <td>1436</td>\n",
       "      <td>51</td>\n",
       "      <td>N</td>\n",
       "      <td>0</td>\n",
       "      <td>31</td>\n",
       "      <td>66</td>\n",
       "      <td>...</td>\n",
       "      <td>16</td>\n",
       "      <td>7</td>\n",
       "      <td>7</td>\n",
       "      <td>8</td>\n",
       "      <td>26</td>\n",
       "      <td>12</td>\n",
       "      <td>17</td>\n",
       "      <td>10</td>\n",
       "      <td>3</td>\n",
       "      <td>15</td>\n",
       "    </tr>\n",
       "    <tr>\n",
       "      <th>2</th>\n",
       "      <td>2003</td>\n",
       "      <td>136</td>\n",
       "      <td>1113</td>\n",
       "      <td>84</td>\n",
       "      <td>1272</td>\n",
       "      <td>71</td>\n",
       "      <td>N</td>\n",
       "      <td>0</td>\n",
       "      <td>31</td>\n",
       "      <td>59</td>\n",
       "      <td>...</td>\n",
       "      <td>28</td>\n",
       "      <td>14</td>\n",
       "      <td>21</td>\n",
       "      <td>20</td>\n",
       "      <td>22</td>\n",
       "      <td>11</td>\n",
       "      <td>12</td>\n",
       "      <td>2</td>\n",
       "      <td>5</td>\n",
       "      <td>18</td>\n",
       "    </tr>\n",
       "    <tr>\n",
       "      <th>3</th>\n",
       "      <td>2003</td>\n",
       "      <td>136</td>\n",
       "      <td>1141</td>\n",
       "      <td>79</td>\n",
       "      <td>1166</td>\n",
       "      <td>73</td>\n",
       "      <td>N</td>\n",
       "      <td>0</td>\n",
       "      <td>29</td>\n",
       "      <td>53</td>\n",
       "      <td>...</td>\n",
       "      <td>17</td>\n",
       "      <td>12</td>\n",
       "      <td>17</td>\n",
       "      <td>14</td>\n",
       "      <td>17</td>\n",
       "      <td>20</td>\n",
       "      <td>21</td>\n",
       "      <td>6</td>\n",
       "      <td>6</td>\n",
       "      <td>21</td>\n",
       "    </tr>\n",
       "    <tr>\n",
       "      <th>4</th>\n",
       "      <td>2003</td>\n",
       "      <td>136</td>\n",
       "      <td>1143</td>\n",
       "      <td>76</td>\n",
       "      <td>1301</td>\n",
       "      <td>74</td>\n",
       "      <td>N</td>\n",
       "      <td>1</td>\n",
       "      <td>27</td>\n",
       "      <td>64</td>\n",
       "      <td>...</td>\n",
       "      <td>21</td>\n",
       "      <td>15</td>\n",
       "      <td>20</td>\n",
       "      <td>10</td>\n",
       "      <td>26</td>\n",
       "      <td>16</td>\n",
       "      <td>14</td>\n",
       "      <td>5</td>\n",
       "      <td>8</td>\n",
       "      <td>19</td>\n",
       "    </tr>\n",
       "  </tbody>\n",
       "</table>\n",
       "<p>5 rows × 34 columns</p>\n",
       "</div>"
      ],
      "text/plain": [
       "   Season  DayNum  WTeamID  WScore  LTeamID  LScore WLoc  NumOT  WFGM  WFGA  \\\n",
       "0    2003     134     1421      92     1411      84    N      1    32    69   \n",
       "1    2003     136     1112      80     1436      51    N      0    31    66   \n",
       "2    2003     136     1113      84     1272      71    N      0    31    59   \n",
       "3    2003     136     1141      79     1166      73    N      0    29    53   \n",
       "4    2003     136     1143      76     1301      74    N      1    27    64   \n",
       "\n",
       "   ...  LFGA3  LFTM  LFTA  LOR  LDR  LAst  LTO  LStl  LBlk  LPF  \n",
       "0  ...     31    14    31   17   28    16   15     5     0   22  \n",
       "1  ...     16     7     7    8   26    12   17    10     3   15  \n",
       "2  ...     28    14    21   20   22    11   12     2     5   18  \n",
       "3  ...     17    12    17   14   17    20   21     6     6   21  \n",
       "4  ...     21    15    20   10   26    16   14     5     8   19  \n",
       "\n",
       "[5 rows x 34 columns]"
      ]
     },
     "execution_count": 6,
     "metadata": {},
     "output_type": "execute_result"
    }
   ],
   "source": [
    "df_TDresults = pd.read_csv(DATA_PATH + \"MNCAATourneyDetailedResults.csv\")\n",
    "df_RSDresults = pd.read_csv(DATA_PATH + \"MRegularSeasonDetailedResults.csv\")\n",
    "df_TDresults.head()"
   ]
  },
  {
   "cell_type": "markdown",
   "id": "83b5ea09",
   "metadata": {
    "papermill": {
     "duration": 0.041359,
     "end_time": "2022-02-26T17:42:08.177022",
     "exception": false,
     "start_time": "2022-02-26T17:42:08.135663",
     "status": "completed"
    },
    "tags": []
   },
   "source": [
    "**霊夢:このままだとデータ量が少ないね。  \n",
    "魔理沙:そうだね、だからMRegularSeasonDetailedResultsも追加して量を増やそう。  \n",
    "霊夢:これでうまくいくといいな―**\n",
    "\n",
    "**Reimu: The amount of data is small at this rate.  \n",
    "Marisa: That's right, so let's add MRegularSeasonDetailedResults to increase the amount.  \n",
    "Reimu: Hope this works**\n",
    "\n",
    "<img src=\"https://1.bp.blogspot.com/-5i9P5bsm_CA/Xbo6PsHbZ-I/AAAAAAABVvg/5uwfw-rUEt4VeLDEbS4YUIViH3SkealiACNcBGAsYHQ/s400/yaruki_aru_casual_woman.png\" width = 200>"
   ]
  },
  {
   "cell_type": "code",
   "execution_count": 7,
   "id": "6e0690a9",
   "metadata": {
    "execution": {
     "iopub.execute_input": "2022-02-26T17:42:08.272801Z",
     "iopub.status.busy": "2022-02-26T17:42:08.270129Z",
     "iopub.status.idle": "2022-02-26T17:42:08.484806Z",
     "shell.execute_reply": "2022-02-26T17:42:08.484343Z",
     "shell.execute_reply.started": "2022-02-26T17:36:58.552680Z"
    },
    "papermill": {
     "duration": 0.267258,
     "end_time": "2022-02-26T17:42:08.484937",
     "exception": false,
     "start_time": "2022-02-26T17:42:08.217679",
     "status": "completed"
    },
    "tags": []
   },
   "outputs": [
    {
     "data": {
      "text/plain": [
       "101604"
      ]
     },
     "execution_count": 7,
     "metadata": {},
     "output_type": "execute_result"
    }
   ],
   "source": [
    "df_TDresults = pd.merge(df_RSDresults,df_TDresults,on = df_TDresults.columns.tolist(),how = \"outer\")\n",
    "len(df_TDresults)"
   ]
  },
  {
   "cell_type": "markdown",
   "id": "9526afc6",
   "metadata": {
    "papermill": {
     "duration": 0.040873,
     "end_time": "2022-02-26T17:42:08.566848",
     "exception": false,
     "start_time": "2022-02-26T17:42:08.525975",
     "status": "completed"
    },
    "tags": []
   },
   "source": [
    "**霊夢:FGMとかFGAって何のこと？  \n",
    "魔理沙:バスケには詳しくないから具体的には分からないが、どうやらどれもゲーム内で起こした特定のアクションの数みたいだね。  \n",
    "霊夢:試合ごとにばらばらだからどうやって扱おうかな？  \n",
    "魔理沙:とりあえずSeason、TeamIDごとに平均をとって特徴量にしよう。上手くいくかはちょっとわからないかな。**\n",
    "\n",
    "**Reimu: What is FGM or FGA?  \n",
    "Marisa: I'm not familiar with basketball, so I don't know the specifics, but it seems that all of them seem to be the number of specific actions taken in the game.  \n",
    "Reimu: How do you handle it because it's different for each match?  \n",
    "Marisa: For the time being, let's take the average for each Season and Team ID and use it as a feature. I don't know if it will work.**"
   ]
  },
  {
   "cell_type": "markdown",
   "id": "0ac9145b",
   "metadata": {
    "papermill": {
     "duration": 0.040643,
     "end_time": "2022-02-26T17:42:08.648502",
     "exception": false,
     "start_time": "2022-02-26T17:42:08.607859",
     "status": "completed"
    },
    "tags": []
   },
   "source": [
    "<img src=\"http://3.bp.blogspot.com/-KmQQLtEkmLw/U1T3r7D0NdI/AAAAAAAAfVI/c2d4n2kG00U/s400/figure_question.png\" width=\"200\">"
   ]
  },
  {
   "cell_type": "code",
   "execution_count": 8,
   "id": "05291ade",
   "metadata": {
    "execution": {
     "iopub.execute_input": "2022-02-26T17:42:08.742148Z",
     "iopub.status.busy": "2022-02-26T17:42:08.740418Z",
     "iopub.status.idle": "2022-02-26T17:42:08.957386Z",
     "shell.execute_reply": "2022-02-26T17:42:08.956490Z",
     "shell.execute_reply.started": "2022-02-26T17:36:58.772844Z"
    },
    "papermill": {
     "duration": 0.267834,
     "end_time": "2022-02-26T17:42:08.957516",
     "exception": false,
     "start_time": "2022-02-26T17:42:08.689682",
     "status": "completed"
    },
    "tags": []
   },
   "outputs": [
    {
     "data": {
      "text/html": [
       "<div>\n",
       "<style scoped>\n",
       "    .dataframe tbody tr th:only-of-type {\n",
       "        vertical-align: middle;\n",
       "    }\n",
       "\n",
       "    .dataframe tbody tr th {\n",
       "        vertical-align: top;\n",
       "    }\n",
       "\n",
       "    .dataframe thead th {\n",
       "        text-align: right;\n",
       "    }\n",
       "</style>\n",
       "<table border=\"1\" class=\"dataframe\">\n",
       "  <thead>\n",
       "    <tr style=\"text-align: right;\">\n",
       "      <th></th>\n",
       "      <th>Season</th>\n",
       "      <th>TeamID</th>\n",
       "      <th>FGM</th>\n",
       "      <th>FGA</th>\n",
       "      <th>FGM3</th>\n",
       "      <th>FTM</th>\n",
       "      <th>FTA</th>\n",
       "      <th>OR</th>\n",
       "      <th>DR</th>\n",
       "      <th>Ast</th>\n",
       "      <th>TO</th>\n",
       "      <th>Stl</th>\n",
       "      <th>Blk</th>\n",
       "      <th>PF</th>\n",
       "    </tr>\n",
       "  </thead>\n",
       "  <tbody>\n",
       "    <tr>\n",
       "      <th>0</th>\n",
       "      <td>2003</td>\n",
       "      <td>1102</td>\n",
       "      <td>19.142857</td>\n",
       "      <td>39.785714</td>\n",
       "      <td>7.821429</td>\n",
       "      <td>11.142857</td>\n",
       "      <td>17.107143</td>\n",
       "      <td>4.178571</td>\n",
       "      <td>16.821429</td>\n",
       "      <td>13.000000</td>\n",
       "      <td>11.428571</td>\n",
       "      <td>5.964286</td>\n",
       "      <td>1.785714</td>\n",
       "      <td>18.750000</td>\n",
       "    </tr>\n",
       "    <tr>\n",
       "      <th>1</th>\n",
       "      <td>2003</td>\n",
       "      <td>1103</td>\n",
       "      <td>27.148148</td>\n",
       "      <td>55.851852</td>\n",
       "      <td>5.444444</td>\n",
       "      <td>19.037037</td>\n",
       "      <td>25.851852</td>\n",
       "      <td>9.777778</td>\n",
       "      <td>19.925926</td>\n",
       "      <td>15.222222</td>\n",
       "      <td>12.629630</td>\n",
       "      <td>7.259259</td>\n",
       "      <td>2.333333</td>\n",
       "      <td>19.851852</td>\n",
       "    </tr>\n",
       "    <tr>\n",
       "      <th>2</th>\n",
       "      <td>2003</td>\n",
       "      <td>1104</td>\n",
       "      <td>23.965517</td>\n",
       "      <td>57.000000</td>\n",
       "      <td>6.310345</td>\n",
       "      <td>14.793103</td>\n",
       "      <td>20.758621</td>\n",
       "      <td>13.413793</td>\n",
       "      <td>23.793103</td>\n",
       "      <td>12.137931</td>\n",
       "      <td>13.103448</td>\n",
       "      <td>6.448276</td>\n",
       "      <td>3.862069</td>\n",
       "      <td>18.137931</td>\n",
       "    </tr>\n",
       "    <tr>\n",
       "      <th>3</th>\n",
       "      <td>2003</td>\n",
       "      <td>1105</td>\n",
       "      <td>24.384615</td>\n",
       "      <td>61.615385</td>\n",
       "      <td>7.576923</td>\n",
       "      <td>15.423077</td>\n",
       "      <td>21.846154</td>\n",
       "      <td>13.500000</td>\n",
       "      <td>23.115385</td>\n",
       "      <td>14.538462</td>\n",
       "      <td>18.653846</td>\n",
       "      <td>9.307692</td>\n",
       "      <td>2.076923</td>\n",
       "      <td>20.230769</td>\n",
       "    </tr>\n",
       "    <tr>\n",
       "      <th>4</th>\n",
       "      <td>2003</td>\n",
       "      <td>1106</td>\n",
       "      <td>23.428571</td>\n",
       "      <td>55.285714</td>\n",
       "      <td>6.107143</td>\n",
       "      <td>10.642857</td>\n",
       "      <td>16.464286</td>\n",
       "      <td>12.285714</td>\n",
       "      <td>23.857143</td>\n",
       "      <td>11.678571</td>\n",
       "      <td>17.035714</td>\n",
       "      <td>8.357143</td>\n",
       "      <td>3.142857</td>\n",
       "      <td>18.178571</td>\n",
       "    </tr>\n",
       "  </tbody>\n",
       "</table>\n",
       "</div>"
      ],
      "text/plain": [
       "   Season  TeamID        FGM        FGA      FGM3        FTM        FTA  \\\n",
       "0    2003    1102  19.142857  39.785714  7.821429  11.142857  17.107143   \n",
       "1    2003    1103  27.148148  55.851852  5.444444  19.037037  25.851852   \n",
       "2    2003    1104  23.965517  57.000000  6.310345  14.793103  20.758621   \n",
       "3    2003    1105  24.384615  61.615385  7.576923  15.423077  21.846154   \n",
       "4    2003    1106  23.428571  55.285714  6.107143  10.642857  16.464286   \n",
       "\n",
       "          OR         DR        Ast         TO       Stl       Blk         PF  \n",
       "0   4.178571  16.821429  13.000000  11.428571  5.964286  1.785714  18.750000  \n",
       "1   9.777778  19.925926  15.222222  12.629630  7.259259  2.333333  19.851852  \n",
       "2  13.413793  23.793103  12.137931  13.103448  6.448276  3.862069  18.137931  \n",
       "3  13.500000  23.115385  14.538462  18.653846  9.307692  2.076923  20.230769  \n",
       "4  12.285714  23.857143  11.678571  17.035714  8.357143  3.142857  18.178571  "
      ]
     },
     "execution_count": 8,
     "metadata": {},
     "output_type": "execute_result"
    }
   ],
   "source": [
    "box_col = [\"FGM\",\"FGA\",\"FGM3\",\"FTM\",\"FTA\",\"OR\",\"DR\",\"Ast\",\"TO\",\"Stl\",\"Blk\",\"PF\"]\n",
    "df_boxW = df_TDresults[[\"Season\",\"WTeamID\"]+[\"W\" + col for col in box_col]]\n",
    "df_boxL = df_TDresults[[\"Season\",\"LTeamID\"]+[\"L\" + col for col in box_col]]\n",
    "df_boxW = df_boxW.rename(columns={\"WTeamID\":\"TeamID\"})\n",
    "df_boxW = df_boxW.rename(columns={(\"W\"+ col):col for col in box_col})\n",
    "df_boxL = df_boxL.rename(columns={\"LTeamID\":\"TeamID\"})\n",
    "df_boxL = df_boxL.rename(columns={(\"L\"+ col):col for col in box_col})\n",
    "df_box = pd.merge(df_boxW,df_boxL,on = [\"Season\",\"TeamID\"]+box_col,how=\"outer\")\n",
    "df_box = df_box.groupby([\"Season\",\"TeamID\"])[box_col].agg(np.mean).reset_index()\n",
    "df_box.head()"
   ]
  },
  {
   "cell_type": "markdown",
   "id": "e30c37f2",
   "metadata": {
    "papermill": {
     "duration": 0.041451,
     "end_time": "2022-02-26T17:42:09.040389",
     "exception": false,
     "start_time": "2022-02-26T17:42:08.998938",
     "status": "completed"
    },
    "tags": []
   },
   "source": [
    "**霊夢:そういえばこのままだと絶対左側のチームIDが勝つことになっちゃうじゃん！<br>\n",
    "魔理沙:そうだった。TeamIDなどのデータを勝ったチームと負けたチームを反転させたデータを下にくっつけよう。これでデータ量も2倍になるぞ。**\n",
    "\n",
    "**Reimu: By the way, the team ID on the left side will definitely win! <br>\n",
    "Marisa: That's right. Let's attach the data such as Team ID, which is the reverse of the winning team and the losing team, to the bottom. This will double the amount of data.**"
   ]
  },
  {
   "cell_type": "markdown",
   "id": "bc825ff3",
   "metadata": {
    "papermill": {
     "duration": 0.040767,
     "end_time": "2022-02-26T17:42:09.122001",
     "exception": false,
     "start_time": "2022-02-26T17:42:09.081234",
     "status": "completed"
    },
    "tags": []
   },
   "source": [
    "<img src=\"https://4.bp.blogspot.com/-WOvX4GkiSEo/U1T3wVr3ovI/AAAAAAAAfWg/RpbQYAHDo2Y/s400/figure_shock.png\" width = 200>"
   ]
  },
  {
   "cell_type": "code",
   "execution_count": 9,
   "id": "7653a38d",
   "metadata": {
    "execution": {
     "iopub.execute_input": "2022-02-26T17:42:09.213582Z",
     "iopub.status.busy": "2022-02-26T17:42:09.211876Z",
     "iopub.status.idle": "2022-02-26T17:42:09.237935Z",
     "shell.execute_reply": "2022-02-26T17:42:09.238401Z",
     "shell.execute_reply.started": "2022-02-26T17:36:58.990663Z"
    },
    "papermill": {
     "duration": 0.074997,
     "end_time": "2022-02-26T17:42:09.238568",
     "exception": false,
     "start_time": "2022-02-26T17:42:09.163571",
     "status": "completed"
    },
    "tags": []
   },
   "outputs": [],
   "source": [
    "df_TDresults2 = df_TDresults\n",
    "df_TDresults = df_TDresults.rename(columns={\"WTeamID\":\"Team1ID\",\"LTeamID\":\"Team2ID\",\"WScore\":\"T1Score\",\"LScore\":\"T2Score\"})\n",
    "df_TDresults = df_TDresults.rename(columns={f\"W{col}\":f\"T1{col}\" for col in box_col})\n",
    "df_TDresults = df_TDresults.rename(columns={f\"L{col}\":f\"T2{col}\" for col in box_col})\n",
    "df_TDresults2 = df_TDresults2.rename(columns={\"WTeamID\":\"Team2ID\",\"LTeamID\":\"Team1ID\",\"WScore\":\"T2Score\",\"LScore\":\"T1Score\"})"
   ]
  },
  {
   "cell_type": "markdown",
   "id": "8045a2ef",
   "metadata": {
    "papermill": {
     "duration": 0.047638,
     "end_time": "2022-02-26T17:42:09.332383",
     "exception": false,
     "start_time": "2022-02-26T17:42:09.284745",
     "status": "completed"
    },
    "tags": []
   },
   "source": [
    "**霊夢:targetはどうするの？  \n",
    "魔理沙:Team1が勝ったときは1.0、負けたときは0.0にしよう。**\n",
    "\n",
    "**Reimu: What about target?  \n",
    "Marisa: Let's set it to 1.0 when Team 1 wins and 0.0 when it loses.**"
   ]
  },
  {
   "cell_type": "code",
   "execution_count": 10,
   "id": "4843f60d",
   "metadata": {
    "execution": {
     "iopub.execute_input": "2022-02-26T17:42:09.433257Z",
     "iopub.status.busy": "2022-02-26T17:42:09.430608Z",
     "iopub.status.idle": "2022-02-26T17:42:09.722298Z",
     "shell.execute_reply": "2022-02-26T17:42:09.722712Z",
     "shell.execute_reply.started": "2022-02-26T17:36:59.024680Z"
    },
    "papermill": {
     "duration": 0.342998,
     "end_time": "2022-02-26T17:42:09.722875",
     "exception": false,
     "start_time": "2022-02-26T17:42:09.379877",
     "status": "completed"
    },
    "tags": []
   },
   "outputs": [
    {
     "data": {
      "text/html": [
       "<div>\n",
       "<style scoped>\n",
       "    .dataframe tbody tr th:only-of-type {\n",
       "        vertical-align: middle;\n",
       "    }\n",
       "\n",
       "    .dataframe tbody tr th {\n",
       "        vertical-align: top;\n",
       "    }\n",
       "\n",
       "    .dataframe thead th {\n",
       "        text-align: right;\n",
       "    }\n",
       "</style>\n",
       "<table border=\"1\" class=\"dataframe\">\n",
       "  <thead>\n",
       "    <tr style=\"text-align: right;\">\n",
       "      <th></th>\n",
       "      <th>Season</th>\n",
       "      <th>Team1ID</th>\n",
       "      <th>Team2ID</th>\n",
       "      <th>T1Score</th>\n",
       "      <th>T2Score</th>\n",
       "      <th>target</th>\n",
       "    </tr>\n",
       "  </thead>\n",
       "  <tbody>\n",
       "    <tr>\n",
       "      <th>0</th>\n",
       "      <td>2003</td>\n",
       "      <td>1104</td>\n",
       "      <td>1328</td>\n",
       "      <td>68</td>\n",
       "      <td>62</td>\n",
       "      <td>1.0</td>\n",
       "    </tr>\n",
       "    <tr>\n",
       "      <th>1</th>\n",
       "      <td>2003</td>\n",
       "      <td>1272</td>\n",
       "      <td>1393</td>\n",
       "      <td>70</td>\n",
       "      <td>63</td>\n",
       "      <td>1.0</td>\n",
       "    </tr>\n",
       "    <tr>\n",
       "      <th>2</th>\n",
       "      <td>2003</td>\n",
       "      <td>1266</td>\n",
       "      <td>1437</td>\n",
       "      <td>73</td>\n",
       "      <td>61</td>\n",
       "      <td>1.0</td>\n",
       "    </tr>\n",
       "    <tr>\n",
       "      <th>3</th>\n",
       "      <td>2003</td>\n",
       "      <td>1296</td>\n",
       "      <td>1457</td>\n",
       "      <td>56</td>\n",
       "      <td>50</td>\n",
       "      <td>1.0</td>\n",
       "    </tr>\n",
       "    <tr>\n",
       "      <th>4</th>\n",
       "      <td>2003</td>\n",
       "      <td>1400</td>\n",
       "      <td>1208</td>\n",
       "      <td>77</td>\n",
       "      <td>71</td>\n",
       "      <td>1.0</td>\n",
       "    </tr>\n",
       "  </tbody>\n",
       "</table>\n",
       "</div>"
      ],
      "text/plain": [
       "   Season  Team1ID  Team2ID  T1Score  T2Score  target\n",
       "0    2003     1104     1328       68       62     1.0\n",
       "1    2003     1272     1393       70       63     1.0\n",
       "2    2003     1266     1437       73       61     1.0\n",
       "3    2003     1296     1457       56       50     1.0\n",
       "4    2003     1400     1208       77       71     1.0"
      ]
     },
     "execution_count": 10,
     "metadata": {},
     "output_type": "execute_result"
    }
   ],
   "source": [
    "features = [\"Season\",\"Team1ID\",\"Team2ID\",\"T1Score\",\"T2Score\",'target']\n",
    "df_TDresults['target'] = 1.0\n",
    "df_TDresults2['target'] = 0.0\n",
    "train = pd.merge(df_TDresults,df_TDresults2,on = features,how=\"outer\")\n",
    "train = train[features]\n",
    "train.head()"
   ]
  },
  {
   "cell_type": "code",
   "execution_count": 11,
   "id": "2336a823",
   "metadata": {
    "execution": {
     "iopub.execute_input": "2022-02-26T17:42:09.813887Z",
     "iopub.status.busy": "2022-02-26T17:42:09.812888Z",
     "iopub.status.idle": "2022-02-26T17:42:09.873978Z",
     "shell.execute_reply": "2022-02-26T17:42:09.873002Z",
     "shell.execute_reply.started": "2022-02-26T17:36:59.311531Z"
    },
    "papermill": {
     "duration": 0.108973,
     "end_time": "2022-02-26T17:42:09.874127",
     "exception": false,
     "start_time": "2022-02-26T17:42:09.765154",
     "status": "completed"
    },
    "tags": []
   },
   "outputs": [],
   "source": [
    "box_T1 = df_box.copy()\n",
    "box_T2 = df_box.copy()\n",
    "box_T1.columns = ['Season','Team1ID'] + [\"T1\"+col+\"_mean\" for col in box_col]\n",
    "box_T2.columns = ['Season','Team2ID'] + [\"T2\"+col+\"_mean\" for col in box_col]\n",
    "train = pd.merge(train,box_T1,on = [\"Season\",\"Team1ID\"],how = \"left\")\n",
    "train = pd.merge(train,box_T2,on = [\"Season\",\"Team2ID\"],how = \"left\")"
   ]
  },
  {
   "cell_type": "markdown",
   "id": "ea288f6b",
   "metadata": {
    "papermill": {
     "duration": 0.041623,
     "end_time": "2022-02-26T17:42:09.958367",
     "exception": false,
     "start_time": "2022-02-26T17:42:09.916744",
     "status": "completed"
    },
    "tags": []
   },
   "source": [
    "**霊夢:今度は何をするの？  \n",
    "魔理沙:次はseedを特徴量として組み込もう！**\n",
    "\n",
    "**Reimu: What are you going to do next time?  \n",
    "Marisa: Next, let's incorporate seed as a feature!**"
   ]
  },
  {
   "cell_type": "markdown",
   "id": "b5812859",
   "metadata": {
    "papermill": {
     "duration": 0.041421,
     "end_time": "2022-02-26T17:42:10.041382",
     "exception": false,
     "start_time": "2022-02-26T17:42:09.999961",
     "status": "completed"
    },
    "tags": []
   },
   "source": [
    "<img src = \"https://1.bp.blogspot.com/-FrFmmMlJ0bE/U1T3wsYJlRI/AAAAAAAAfWo/7-7pGdnlkKQ/s400/figure_talking.png\" width = 200>"
   ]
  },
  {
   "cell_type": "code",
   "execution_count": 12,
   "id": "b3bf1f1a",
   "metadata": {
    "execution": {
     "iopub.execute_input": "2022-02-26T17:42:10.128899Z",
     "iopub.status.busy": "2022-02-26T17:42:10.128303Z",
     "iopub.status.idle": "2022-02-26T17:42:10.139975Z",
     "shell.execute_reply": "2022-02-26T17:42:10.140372Z",
     "shell.execute_reply.started": "2022-02-26T17:36:59.375572Z"
    },
    "papermill": {
     "duration": 0.057561,
     "end_time": "2022-02-26T17:42:10.140501",
     "exception": false,
     "start_time": "2022-02-26T17:42:10.082940",
     "status": "completed"
    },
    "tags": []
   },
   "outputs": [
    {
     "data": {
      "text/html": [
       "<div>\n",
       "<style scoped>\n",
       "    .dataframe tbody tr th:only-of-type {\n",
       "        vertical-align: middle;\n",
       "    }\n",
       "\n",
       "    .dataframe tbody tr th {\n",
       "        vertical-align: top;\n",
       "    }\n",
       "\n",
       "    .dataframe thead th {\n",
       "        text-align: right;\n",
       "    }\n",
       "</style>\n",
       "<table border=\"1\" class=\"dataframe\">\n",
       "  <thead>\n",
       "    <tr style=\"text-align: right;\">\n",
       "      <th></th>\n",
       "      <th>Season</th>\n",
       "      <th>Seed</th>\n",
       "      <th>TeamID</th>\n",
       "    </tr>\n",
       "  </thead>\n",
       "  <tbody>\n",
       "    <tr>\n",
       "      <th>0</th>\n",
       "      <td>1985</td>\n",
       "      <td>W01</td>\n",
       "      <td>1207</td>\n",
       "    </tr>\n",
       "    <tr>\n",
       "      <th>1</th>\n",
       "      <td>1985</td>\n",
       "      <td>W02</td>\n",
       "      <td>1210</td>\n",
       "    </tr>\n",
       "    <tr>\n",
       "      <th>2</th>\n",
       "      <td>1985</td>\n",
       "      <td>W03</td>\n",
       "      <td>1228</td>\n",
       "    </tr>\n",
       "    <tr>\n",
       "      <th>3</th>\n",
       "      <td>1985</td>\n",
       "      <td>W04</td>\n",
       "      <td>1260</td>\n",
       "    </tr>\n",
       "    <tr>\n",
       "      <th>4</th>\n",
       "      <td>1985</td>\n",
       "      <td>W05</td>\n",
       "      <td>1374</td>\n",
       "    </tr>\n",
       "  </tbody>\n",
       "</table>\n",
       "</div>"
      ],
      "text/plain": [
       "   Season Seed  TeamID\n",
       "0    1985  W01    1207\n",
       "1    1985  W02    1210\n",
       "2    1985  W03    1228\n",
       "3    1985  W04    1260\n",
       "4    1985  W05    1374"
      ]
     },
     "execution_count": 12,
     "metadata": {},
     "output_type": "execute_result"
    }
   ],
   "source": [
    "df_seeds = pd.read_csv(DATA_PATH + \"MNCAATourneySeeds.csv\")\n",
    "df_seeds.head()"
   ]
  },
  {
   "cell_type": "markdown",
   "id": "a4d617d8",
   "metadata": {
    "papermill": {
     "duration": 0.041746,
     "end_time": "2022-02-26T17:42:10.224599",
     "exception": false,
     "start_time": "2022-02-26T17:42:10.182853",
     "status": "completed"
    },
    "tags": []
   },
   "source": [
    "**霊夢:それぞれのチームのseedが独立した特徴量で正しく学習できるのかな？  \n",
    "魔理沙:ちょっと心配だね。seedの差を取った特徴量も作っておこう**\n",
    "\n",
    "**Reimu: Can the seeds of each team learn correctly with independent features?  \n",
    "Marisa: I'm a little worried. Let's make a feature quantity with the difference in seed**"
   ]
  },
  {
   "cell_type": "code",
   "execution_count": 13,
   "id": "f655cf27",
   "metadata": {
    "execution": {
     "iopub.execute_input": "2022-02-26T17:42:10.321684Z",
     "iopub.status.busy": "2022-02-26T17:42:10.320384Z",
     "iopub.status.idle": "2022-02-26T17:42:10.388721Z",
     "shell.execute_reply": "2022-02-26T17:42:10.388102Z",
     "shell.execute_reply.started": "2022-02-26T17:36:59.394664Z"
    },
    "papermill": {
     "duration": 0.121842,
     "end_time": "2022-02-26T17:42:10.388848",
     "exception": false,
     "start_time": "2022-02-26T17:42:10.267006",
     "status": "completed"
    },
    "tags": []
   },
   "outputs": [],
   "source": [
    "df_seeds[\"seed\"] = df_seeds['Seed'].apply(lambda x: int(x[1:3]))\n",
    "seeds_T1 = df_seeds[['Season','TeamID','seed']].copy()\n",
    "seeds_T2 = df_seeds[['Season','TeamID','seed']].copy()\n",
    "seeds_T1.columns = ['Season','Team1ID','T1_seed']\n",
    "seeds_T2.columns = ['Season','Team2ID','T2_seed']\n",
    "train = pd.merge(train,seeds_T1,on = [\"Season\",\"Team1ID\"],how = \"left\")\n",
    "train = pd.merge(train,seeds_T2,on = [\"Season\",\"Team2ID\"],how = \"left\")\n",
    "train[\"seeddiff\"] = train[\"T1_seed\"] - train[\"T2_seed\"]"
   ]
  },
  {
   "cell_type": "markdown",
   "id": "7721f2a4",
   "metadata": {
    "papermill": {
     "duration": 0.04187,
     "end_time": "2022-02-26T17:42:10.473588",
     "exception": false,
     "start_time": "2022-02-26T17:42:10.431718",
     "status": "completed"
    },
    "tags": []
   },
   "source": [
    "**霊夢:次はどうするの？  \n",
    "魔理沙:次はランキングを特徴量にするよ。  \n",
    "霊夢:でもランキングはいろいろ種類があるみたいだけどどうする？  \n",
    "魔理沙：そうだなー、とりあえず平均をとるか。**\n",
    "\n",
    "**Reimu: What's next?  \n",
    "Marisa: Next, let's make the ranking a feature.  \n",
    "Reimu: But there seem to be various rankings, but what do you do?  \n",
    "Marisa: That's right, do you take the average for the time being?**"
   ]
  },
  {
   "cell_type": "markdown",
   "id": "ce6121f7",
   "metadata": {
    "papermill": {
     "duration": 0.042196,
     "end_time": "2022-02-26T17:42:10.561234",
     "exception": false,
     "start_time": "2022-02-26T17:42:10.519038",
     "status": "completed"
    },
    "tags": []
   },
   "source": [
    "<img src=\"https://2.bp.blogspot.com/-nMjuko9tXGc/Ut0BV0jJHkI/AAAAAAAAdW0/tRb8t3PEY28/s400/kangaeruhito.png\" width = 200>"
   ]
  },
  {
   "cell_type": "code",
   "execution_count": 14,
   "id": "4475d779",
   "metadata": {
    "execution": {
     "iopub.execute_input": "2022-02-26T17:42:10.651235Z",
     "iopub.status.busy": "2022-02-26T17:42:10.650660Z",
     "iopub.status.idle": "2022-02-26T17:42:13.415155Z",
     "shell.execute_reply": "2022-02-26T17:42:13.415749Z",
     "shell.execute_reply.started": "2022-02-26T17:36:59.473144Z"
    },
    "papermill": {
     "duration": 2.811927,
     "end_time": "2022-02-26T17:42:13.415912",
     "exception": false,
     "start_time": "2022-02-26T17:42:10.603985",
     "status": "completed"
    },
    "tags": []
   },
   "outputs": [
    {
     "data": {
      "text/html": [
       "<div>\n",
       "<style scoped>\n",
       "    .dataframe tbody tr th:only-of-type {\n",
       "        vertical-align: middle;\n",
       "    }\n",
       "\n",
       "    .dataframe tbody tr th {\n",
       "        vertical-align: top;\n",
       "    }\n",
       "\n",
       "    .dataframe thead th {\n",
       "        text-align: right;\n",
       "    }\n",
       "</style>\n",
       "<table border=\"1\" class=\"dataframe\">\n",
       "  <thead>\n",
       "    <tr style=\"text-align: right;\">\n",
       "      <th></th>\n",
       "      <th>Season</th>\n",
       "      <th>TeamID</th>\n",
       "      <th>OrdinalRank</th>\n",
       "    </tr>\n",
       "  </thead>\n",
       "  <tbody>\n",
       "    <tr>\n",
       "      <th>0</th>\n",
       "      <td>2003</td>\n",
       "      <td>1102</td>\n",
       "      <td>144.287500</td>\n",
       "    </tr>\n",
       "    <tr>\n",
       "      <th>1</th>\n",
       "      <td>2003</td>\n",
       "      <td>1103</td>\n",
       "      <td>182.205000</td>\n",
       "    </tr>\n",
       "    <tr>\n",
       "      <th>2</th>\n",
       "      <td>2003</td>\n",
       "      <td>1104</td>\n",
       "      <td>27.655502</td>\n",
       "    </tr>\n",
       "    <tr>\n",
       "      <th>3</th>\n",
       "      <td>2003</td>\n",
       "      <td>1105</td>\n",
       "      <td>305.377500</td>\n",
       "    </tr>\n",
       "    <tr>\n",
       "      <th>4</th>\n",
       "      <td>2003</td>\n",
       "      <td>1106</td>\n",
       "      <td>243.265000</td>\n",
       "    </tr>\n",
       "  </tbody>\n",
       "</table>\n",
       "</div>"
      ],
      "text/plain": [
       "   Season  TeamID  OrdinalRank\n",
       "0    2003    1102   144.287500\n",
       "1    2003    1103   182.205000\n",
       "2    2003    1104    27.655502\n",
       "3    2003    1105   305.377500\n",
       "4    2003    1106   243.265000"
      ]
     },
     "execution_count": 14,
     "metadata": {},
     "output_type": "execute_result"
    }
   ],
   "source": [
    "df_MMOrdinals = pd.read_csv(DATA_PATH + \"MMasseyOrdinals.csv\")\n",
    "df_rank = df_MMOrdinals.groupby([\"Season\",\"TeamID\"])[\"OrdinalRank\"].agg(np.mean).reset_index()\n",
    "df_rank.head()"
   ]
  },
  {
   "cell_type": "markdown",
   "id": "5d731d0a",
   "metadata": {
    "papermill": {
     "duration": 0.043128,
     "end_time": "2022-02-26T17:42:13.503258",
     "exception": false,
     "start_time": "2022-02-26T17:42:13.460130",
     "status": "completed"
    },
    "tags": []
   },
   "source": [
    "**魔理沙:こっちもseedと同様に差を取っておこう。**\n",
    "\n",
    "**Marisa: Let's make a difference here as well as seed.**"
   ]
  },
  {
   "cell_type": "code",
   "execution_count": 15,
   "id": "e342b546",
   "metadata": {
    "execution": {
     "iopub.execute_input": "2022-02-26T17:42:13.595498Z",
     "iopub.status.busy": "2022-02-26T17:42:13.594956Z",
     "iopub.status.idle": "2022-02-26T17:42:13.672524Z",
     "shell.execute_reply": "2022-02-26T17:42:13.671704Z",
     "shell.execute_reply.started": "2022-02-26T17:37:02.229855Z"
    },
    "papermill": {
     "duration": 0.126781,
     "end_time": "2022-02-26T17:42:13.672677",
     "exception": false,
     "start_time": "2022-02-26T17:42:13.545896",
     "status": "completed"
    },
    "tags": []
   },
   "outputs": [],
   "source": [
    "ranks_T1 = df_rank.copy()\n",
    "ranks_T2 = df_rank.copy()\n",
    "ranks_T1.columns = ['Season','Team1ID','T1_rank_mean']\n",
    "ranks_T2.columns = ['Season','Team2ID','T2_rank_mean']\n",
    "train = pd.merge(train,ranks_T1,on = [\"Season\",\"Team1ID\"],how = \"left\")\n",
    "train = pd.merge(train,ranks_T2,on = [\"Season\",\"Team2ID\"],how = \"left\")\n",
    "train[\"rankdiff\"] = train[\"T1_rank_mean\"] - train[\"T2_rank_mean\"]"
   ]
  },
  {
   "cell_type": "code",
   "execution_count": 16,
   "id": "0beb0f74",
   "metadata": {
    "execution": {
     "iopub.execute_input": "2022-02-26T17:42:13.765853Z",
     "iopub.status.busy": "2022-02-26T17:42:13.764183Z",
     "iopub.status.idle": "2022-02-26T17:42:13.831353Z",
     "shell.execute_reply": "2022-02-26T17:42:13.831782Z",
     "shell.execute_reply.started": "2022-02-26T17:37:02.315131Z"
    },
    "papermill": {
     "duration": 0.116219,
     "end_time": "2022-02-26T17:42:13.831946",
     "exception": false,
     "start_time": "2022-02-26T17:42:13.715727",
     "status": "completed"
    },
    "tags": []
   },
   "outputs": [
    {
     "data": {
      "text/html": [
       "<div>\n",
       "<style scoped>\n",
       "    .dataframe tbody tr th:only-of-type {\n",
       "        vertical-align: middle;\n",
       "    }\n",
       "\n",
       "    .dataframe tbody tr th {\n",
       "        vertical-align: top;\n",
       "    }\n",
       "\n",
       "    .dataframe thead th {\n",
       "        text-align: right;\n",
       "    }\n",
       "</style>\n",
       "<table border=\"1\" class=\"dataframe\">\n",
       "  <thead>\n",
       "    <tr style=\"text-align: right;\">\n",
       "      <th></th>\n",
       "      <th>Season</th>\n",
       "      <th>Team1ID</th>\n",
       "      <th>Team2ID</th>\n",
       "      <th>T1Score</th>\n",
       "      <th>T2Score</th>\n",
       "      <th>target</th>\n",
       "      <th>T1FGM_mean</th>\n",
       "      <th>T1FGA_mean</th>\n",
       "      <th>T1FGM3_mean</th>\n",
       "      <th>T1FTM_mean</th>\n",
       "      <th>...</th>\n",
       "      <th>T2TO_mean</th>\n",
       "      <th>T2Stl_mean</th>\n",
       "      <th>T2Blk_mean</th>\n",
       "      <th>T2PF_mean</th>\n",
       "      <th>T1_seed</th>\n",
       "      <th>T2_seed</th>\n",
       "      <th>seeddiff</th>\n",
       "      <th>T1_rank_mean</th>\n",
       "      <th>T2_rank_mean</th>\n",
       "      <th>rankdiff</th>\n",
       "    </tr>\n",
       "  </thead>\n",
       "  <tbody>\n",
       "    <tr>\n",
       "      <th>0</th>\n",
       "      <td>2003</td>\n",
       "      <td>1104</td>\n",
       "      <td>1328</td>\n",
       "      <td>68</td>\n",
       "      <td>62</td>\n",
       "      <td>1.0</td>\n",
       "      <td>23.965517</td>\n",
       "      <td>57.000000</td>\n",
       "      <td>6.310345</td>\n",
       "      <td>14.793103</td>\n",
       "      <td>...</td>\n",
       "      <td>12.117647</td>\n",
       "      <td>6.970588</td>\n",
       "      <td>3.617647</td>\n",
       "      <td>18.205882</td>\n",
       "      <td>10.0</td>\n",
       "      <td>1.0</td>\n",
       "      <td>9.0</td>\n",
       "      <td>27.655502</td>\n",
       "      <td>15.730233</td>\n",
       "      <td>11.925270</td>\n",
       "    </tr>\n",
       "    <tr>\n",
       "      <th>1</th>\n",
       "      <td>2003</td>\n",
       "      <td>1272</td>\n",
       "      <td>1393</td>\n",
       "      <td>70</td>\n",
       "      <td>63</td>\n",
       "      <td>1.0</td>\n",
       "      <td>26.233333</td>\n",
       "      <td>60.300000</td>\n",
       "      <td>7.000000</td>\n",
       "      <td>14.933333</td>\n",
       "      <td>...</td>\n",
       "      <td>14.114286</td>\n",
       "      <td>8.514286</td>\n",
       "      <td>7.057143</td>\n",
       "      <td>16.857143</td>\n",
       "      <td>7.0</td>\n",
       "      <td>3.0</td>\n",
       "      <td>4.0</td>\n",
       "      <td>42.000000</td>\n",
       "      <td>25.596154</td>\n",
       "      <td>16.403846</td>\n",
       "    </tr>\n",
       "    <tr>\n",
       "      <th>2</th>\n",
       "      <td>2003</td>\n",
       "      <td>1266</td>\n",
       "      <td>1437</td>\n",
       "      <td>73</td>\n",
       "      <td>61</td>\n",
       "      <td>1.0</td>\n",
       "      <td>27.303030</td>\n",
       "      <td>56.696970</td>\n",
       "      <td>6.121212</td>\n",
       "      <td>17.727273</td>\n",
       "      <td>...</td>\n",
       "      <td>16.033333</td>\n",
       "      <td>7.500000</td>\n",
       "      <td>3.400000</td>\n",
       "      <td>20.900000</td>\n",
       "      <td>3.0</td>\n",
       "      <td>NaN</td>\n",
       "      <td>NaN</td>\n",
       "      <td>18.967442</td>\n",
       "      <td>60.385000</td>\n",
       "      <td>-41.417558</td>\n",
       "    </tr>\n",
       "    <tr>\n",
       "      <th>3</th>\n",
       "      <td>2003</td>\n",
       "      <td>1296</td>\n",
       "      <td>1457</td>\n",
       "      <td>56</td>\n",
       "      <td>50</td>\n",
       "      <td>1.0</td>\n",
       "      <td>24.354839</td>\n",
       "      <td>53.064516</td>\n",
       "      <td>6.290323</td>\n",
       "      <td>14.612903</td>\n",
       "      <td>...</td>\n",
       "      <td>14.642857</td>\n",
       "      <td>7.607143</td>\n",
       "      <td>5.392857</td>\n",
       "      <td>19.642857</td>\n",
       "      <td>NaN</td>\n",
       "      <td>NaN</td>\n",
       "      <td>NaN</td>\n",
       "      <td>147.512500</td>\n",
       "      <td>209.452500</td>\n",
       "      <td>-61.940000</td>\n",
       "    </tr>\n",
       "    <tr>\n",
       "      <th>4</th>\n",
       "      <td>2003</td>\n",
       "      <td>1400</td>\n",
       "      <td>1208</td>\n",
       "      <td>77</td>\n",
       "      <td>71</td>\n",
       "      <td>1.0</td>\n",
       "      <td>27.757576</td>\n",
       "      <td>62.272727</td>\n",
       "      <td>5.939394</td>\n",
       "      <td>17.878788</td>\n",
       "      <td>...</td>\n",
       "      <td>11.555556</td>\n",
       "      <td>7.629630</td>\n",
       "      <td>4.370370</td>\n",
       "      <td>17.185185</td>\n",
       "      <td>1.0</td>\n",
       "      <td>NaN</td>\n",
       "      <td>NaN</td>\n",
       "      <td>9.416279</td>\n",
       "      <td>19.261283</td>\n",
       "      <td>-9.845004</td>\n",
       "    </tr>\n",
       "  </tbody>\n",
       "</table>\n",
       "<p>5 rows × 36 columns</p>\n",
       "</div>"
      ],
      "text/plain": [
       "   Season  Team1ID  Team2ID  T1Score  T2Score  target  T1FGM_mean  T1FGA_mean  \\\n",
       "0    2003     1104     1328       68       62     1.0   23.965517   57.000000   \n",
       "1    2003     1272     1393       70       63     1.0   26.233333   60.300000   \n",
       "2    2003     1266     1437       73       61     1.0   27.303030   56.696970   \n",
       "3    2003     1296     1457       56       50     1.0   24.354839   53.064516   \n",
       "4    2003     1400     1208       77       71     1.0   27.757576   62.272727   \n",
       "\n",
       "   T1FGM3_mean  T1FTM_mean  ...  T2TO_mean  T2Stl_mean  T2Blk_mean  T2PF_mean  \\\n",
       "0     6.310345   14.793103  ...  12.117647    6.970588    3.617647  18.205882   \n",
       "1     7.000000   14.933333  ...  14.114286    8.514286    7.057143  16.857143   \n",
       "2     6.121212   17.727273  ...  16.033333    7.500000    3.400000  20.900000   \n",
       "3     6.290323   14.612903  ...  14.642857    7.607143    5.392857  19.642857   \n",
       "4     5.939394   17.878788  ...  11.555556    7.629630    4.370370  17.185185   \n",
       "\n",
       "   T1_seed  T2_seed  seeddiff  T1_rank_mean  T2_rank_mean   rankdiff  \n",
       "0     10.0      1.0       9.0     27.655502     15.730233  11.925270  \n",
       "1      7.0      3.0       4.0     42.000000     25.596154  16.403846  \n",
       "2      3.0      NaN       NaN     18.967442     60.385000 -41.417558  \n",
       "3      NaN      NaN       NaN    147.512500    209.452500 -61.940000  \n",
       "4      1.0      NaN       NaN      9.416279     19.261283  -9.845004  \n",
       "\n",
       "[5 rows x 36 columns]"
      ]
     },
     "execution_count": 16,
     "metadata": {},
     "output_type": "execute_result"
    }
   ],
   "source": [
    "features = train.drop(columns = [\"target\",\"T1Score\",\"T2Score\"]).columns\n",
    "train.head()"
   ]
  },
  {
   "cell_type": "markdown",
   "id": "23ac327d",
   "metadata": {
    "papermill": {
     "duration": 0.043322,
     "end_time": "2022-02-26T17:42:13.919369",
     "exception": false,
     "start_time": "2022-02-26T17:42:13.876047",
     "status": "completed"
    },
    "tags": []
   },
   "source": [
    "**霊夢:これで一通りのデータができあがったね。  \n",
    "魔理沙：でもまだ終わりじゃないよ、testデータも同様にして作っていこう。  \n",
    "霊夢：ああ大変だあ**\n",
    "\n",
    "**Reimu: That's all the data.  \n",
    "Marisa: But it's not over yet, let's make test data in the same way.  \n",
    "Reimu: Oh, it's hard**"
   ]
  },
  {
   "cell_type": "markdown",
   "id": "754a67e2",
   "metadata": {
    "id": "Zh46yWyzQZLX",
    "papermill": {
     "duration": 0.043502,
     "end_time": "2022-02-26T17:42:14.006432",
     "exception": false,
     "start_time": "2022-02-26T17:42:13.962930",
     "status": "completed"
    },
    "tags": []
   },
   "source": [
    "<img src=\"https://3.bp.blogspot.com/-3q31Kj8zFHc/V6BP6vEGe1I/AAAAAAAA83s/YD0NZlG5wmgMiB_iX9QMDy8KF2IEid6qQCLcB/s450/figure_korobu.png\" width=\"200\">"
   ]
  },
  {
   "cell_type": "code",
   "execution_count": 17,
   "id": "048f349d",
   "metadata": {
    "execution": {
     "iopub.execute_input": "2022-02-26T17:42:14.099422Z",
     "iopub.status.busy": "2022-02-26T17:42:14.098593Z",
     "iopub.status.idle": "2022-02-26T17:42:14.118123Z",
     "shell.execute_reply": "2022-02-26T17:42:14.118536Z",
     "shell.execute_reply.started": "2022-02-26T17:37:02.384320Z"
    },
    "papermill": {
     "duration": 0.067516,
     "end_time": "2022-02-26T17:42:14.118711",
     "exception": false,
     "start_time": "2022-02-26T17:42:14.051195",
     "status": "completed"
    },
    "tags": []
   },
   "outputs": [
    {
     "data": {
      "text/html": [
       "<div>\n",
       "<style scoped>\n",
       "    .dataframe tbody tr th:only-of-type {\n",
       "        vertical-align: middle;\n",
       "    }\n",
       "\n",
       "    .dataframe tbody tr th {\n",
       "        vertical-align: top;\n",
       "    }\n",
       "\n",
       "    .dataframe thead th {\n",
       "        text-align: right;\n",
       "    }\n",
       "</style>\n",
       "<table border=\"1\" class=\"dataframe\">\n",
       "  <thead>\n",
       "    <tr style=\"text-align: right;\">\n",
       "      <th></th>\n",
       "      <th>ID</th>\n",
       "      <th>Pred</th>\n",
       "    </tr>\n",
       "  </thead>\n",
       "  <tbody>\n",
       "    <tr>\n",
       "      <th>0</th>\n",
       "      <td>2016_1112_1114</td>\n",
       "      <td>0.5</td>\n",
       "    </tr>\n",
       "    <tr>\n",
       "      <th>1</th>\n",
       "      <td>2016_1112_1122</td>\n",
       "      <td>0.5</td>\n",
       "    </tr>\n",
       "    <tr>\n",
       "      <th>2</th>\n",
       "      <td>2016_1112_1124</td>\n",
       "      <td>0.5</td>\n",
       "    </tr>\n",
       "    <tr>\n",
       "      <th>3</th>\n",
       "      <td>2016_1112_1138</td>\n",
       "      <td>0.5</td>\n",
       "    </tr>\n",
       "    <tr>\n",
       "      <th>4</th>\n",
       "      <td>2016_1112_1139</td>\n",
       "      <td>0.5</td>\n",
       "    </tr>\n",
       "  </tbody>\n",
       "</table>\n",
       "</div>"
      ],
      "text/plain": [
       "               ID  Pred\n",
       "0  2016_1112_1114   0.5\n",
       "1  2016_1112_1122   0.5\n",
       "2  2016_1112_1124   0.5\n",
       "3  2016_1112_1138   0.5\n",
       "4  2016_1112_1139   0.5"
      ]
     },
     "execution_count": 17,
     "metadata": {},
     "output_type": "execute_result"
    }
   ],
   "source": [
    "test = pd.read_csv(DATA_PATH + \"MSampleSubmissionStage1.csv\")\n",
    "test.head()"
   ]
  },
  {
   "cell_type": "code",
   "execution_count": 18,
   "id": "d49fbdb8",
   "metadata": {
    "execution": {
     "iopub.execute_input": "2022-02-26T17:42:14.247495Z",
     "iopub.status.busy": "2022-02-26T17:42:14.246809Z",
     "iopub.status.idle": "2022-02-26T17:42:14.249724Z",
     "shell.execute_reply": "2022-02-26T17:42:14.250134Z",
     "shell.execute_reply.started": "2022-02-26T17:37:02.406552Z"
    },
    "papermill": {
     "duration": 0.087091,
     "end_time": "2022-02-26T17:42:14.250280",
     "exception": false,
     "start_time": "2022-02-26T17:42:14.163189",
     "status": "completed"
    },
    "tags": []
   },
   "outputs": [
    {
     "data": {
      "text/html": [
       "<div>\n",
       "<style scoped>\n",
       "    .dataframe tbody tr th:only-of-type {\n",
       "        vertical-align: middle;\n",
       "    }\n",
       "\n",
       "    .dataframe tbody tr th {\n",
       "        vertical-align: top;\n",
       "    }\n",
       "\n",
       "    .dataframe thead th {\n",
       "        text-align: right;\n",
       "    }\n",
       "</style>\n",
       "<table border=\"1\" class=\"dataframe\">\n",
       "  <thead>\n",
       "    <tr style=\"text-align: right;\">\n",
       "      <th></th>\n",
       "      <th>ID</th>\n",
       "      <th>Pred</th>\n",
       "      <th>Season</th>\n",
       "      <th>Team1ID</th>\n",
       "      <th>Team2ID</th>\n",
       "    </tr>\n",
       "  </thead>\n",
       "  <tbody>\n",
       "    <tr>\n",
       "      <th>0</th>\n",
       "      <td>2016_1112_1114</td>\n",
       "      <td>0.5</td>\n",
       "      <td>2016</td>\n",
       "      <td>1112</td>\n",
       "      <td>1114</td>\n",
       "    </tr>\n",
       "    <tr>\n",
       "      <th>1</th>\n",
       "      <td>2016_1112_1122</td>\n",
       "      <td>0.5</td>\n",
       "      <td>2016</td>\n",
       "      <td>1112</td>\n",
       "      <td>1122</td>\n",
       "    </tr>\n",
       "    <tr>\n",
       "      <th>2</th>\n",
       "      <td>2016_1112_1124</td>\n",
       "      <td>0.5</td>\n",
       "      <td>2016</td>\n",
       "      <td>1112</td>\n",
       "      <td>1124</td>\n",
       "    </tr>\n",
       "    <tr>\n",
       "      <th>3</th>\n",
       "      <td>2016_1112_1138</td>\n",
       "      <td>0.5</td>\n",
       "      <td>2016</td>\n",
       "      <td>1112</td>\n",
       "      <td>1138</td>\n",
       "    </tr>\n",
       "    <tr>\n",
       "      <th>4</th>\n",
       "      <td>2016_1112_1139</td>\n",
       "      <td>0.5</td>\n",
       "      <td>2016</td>\n",
       "      <td>1112</td>\n",
       "      <td>1139</td>\n",
       "    </tr>\n",
       "  </tbody>\n",
       "</table>\n",
       "</div>"
      ],
      "text/plain": [
       "               ID  Pred  Season  Team1ID  Team2ID\n",
       "0  2016_1112_1114   0.5    2016     1112     1114\n",
       "1  2016_1112_1122   0.5    2016     1112     1122\n",
       "2  2016_1112_1124   0.5    2016     1112     1124\n",
       "3  2016_1112_1138   0.5    2016     1112     1138\n",
       "4  2016_1112_1139   0.5    2016     1112     1139"
      ]
     },
     "execution_count": 18,
     "metadata": {},
     "output_type": "execute_result"
    }
   ],
   "source": [
    "test[\"Season\"] = test['ID'].apply(lambda x: int(x[0:4]))\n",
    "test[\"Team1ID\"] = test['ID'].apply(lambda x: int(x[5:9]))\n",
    "test[\"Team2ID\"] = test['ID'].apply(lambda x: int(x[10:14]))\n",
    "test.head()"
   ]
  },
  {
   "cell_type": "code",
   "execution_count": 19,
   "id": "6079e6f8",
   "metadata": {
    "execution": {
     "iopub.execute_input": "2022-02-26T17:42:14.346763Z",
     "iopub.status.busy": "2022-02-26T17:42:14.345890Z",
     "iopub.status.idle": "2022-02-26T17:42:14.376817Z",
     "shell.execute_reply": "2022-02-26T17:42:14.376229Z",
     "shell.execute_reply.started": "2022-02-26T17:37:02.449221Z"
    },
    "papermill": {
     "duration": 0.081274,
     "end_time": "2022-02-26T17:42:14.376968",
     "exception": false,
     "start_time": "2022-02-26T17:42:14.295694",
     "status": "completed"
    },
    "tags": []
   },
   "outputs": [
    {
     "data": {
      "text/html": [
       "<div>\n",
       "<style scoped>\n",
       "    .dataframe tbody tr th:only-of-type {\n",
       "        vertical-align: middle;\n",
       "    }\n",
       "\n",
       "    .dataframe tbody tr th {\n",
       "        vertical-align: top;\n",
       "    }\n",
       "\n",
       "    .dataframe thead th {\n",
       "        text-align: right;\n",
       "    }\n",
       "</style>\n",
       "<table border=\"1\" class=\"dataframe\">\n",
       "  <thead>\n",
       "    <tr style=\"text-align: right;\">\n",
       "      <th></th>\n",
       "      <th>ID</th>\n",
       "      <th>Pred</th>\n",
       "      <th>Season</th>\n",
       "      <th>Team1ID</th>\n",
       "      <th>Team2ID</th>\n",
       "      <th>T1FGM_mean</th>\n",
       "      <th>T1FGA_mean</th>\n",
       "      <th>T1FGM3_mean</th>\n",
       "      <th>T1FTM_mean</th>\n",
       "      <th>T1FTA_mean</th>\n",
       "      <th>...</th>\n",
       "      <th>T2FGM3_mean</th>\n",
       "      <th>T2FTM_mean</th>\n",
       "      <th>T2FTA_mean</th>\n",
       "      <th>T2OR_mean</th>\n",
       "      <th>T2DR_mean</th>\n",
       "      <th>T2Ast_mean</th>\n",
       "      <th>T2TO_mean</th>\n",
       "      <th>T2Stl_mean</th>\n",
       "      <th>T2Blk_mean</th>\n",
       "      <th>T2PF_mean</th>\n",
       "    </tr>\n",
       "  </thead>\n",
       "  <tbody>\n",
       "    <tr>\n",
       "      <th>0</th>\n",
       "      <td>2016_1112_1114</td>\n",
       "      <td>0.5</td>\n",
       "      <td>2016</td>\n",
       "      <td>1112</td>\n",
       "      <td>1114</td>\n",
       "      <td>27.823529</td>\n",
       "      <td>57.941176</td>\n",
       "      <td>6.5</td>\n",
       "      <td>18.294118</td>\n",
       "      <td>25.382353</td>\n",
       "      <td>...</td>\n",
       "      <td>7.424242</td>\n",
       "      <td>12.696970</td>\n",
       "      <td>17.424242</td>\n",
       "      <td>8.848485</td>\n",
       "      <td>24.393939</td>\n",
       "      <td>12.666667</td>\n",
       "      <td>10.121212</td>\n",
       "      <td>6.333333</td>\n",
       "      <td>2.909091</td>\n",
       "      <td>18.242424</td>\n",
       "    </tr>\n",
       "    <tr>\n",
       "      <th>1</th>\n",
       "      <td>2016_1112_1122</td>\n",
       "      <td>0.5</td>\n",
       "      <td>2016</td>\n",
       "      <td>1112</td>\n",
       "      <td>1122</td>\n",
       "      <td>27.823529</td>\n",
       "      <td>57.941176</td>\n",
       "      <td>6.5</td>\n",
       "      <td>18.294118</td>\n",
       "      <td>25.382353</td>\n",
       "      <td>...</td>\n",
       "      <td>6.147059</td>\n",
       "      <td>17.588235</td>\n",
       "      <td>26.235294</td>\n",
       "      <td>11.205882</td>\n",
       "      <td>24.705882</td>\n",
       "      <td>12.676471</td>\n",
       "      <td>14.470588</td>\n",
       "      <td>6.941176</td>\n",
       "      <td>2.676471</td>\n",
       "      <td>17.794118</td>\n",
       "    </tr>\n",
       "    <tr>\n",
       "      <th>2</th>\n",
       "      <td>2016_1112_1124</td>\n",
       "      <td>0.5</td>\n",
       "      <td>2016</td>\n",
       "      <td>1112</td>\n",
       "      <td>1124</td>\n",
       "      <td>27.823529</td>\n",
       "      <td>57.941176</td>\n",
       "      <td>6.5</td>\n",
       "      <td>18.294118</td>\n",
       "      <td>25.382353</td>\n",
       "      <td>...</td>\n",
       "      <td>6.181818</td>\n",
       "      <td>16.272727</td>\n",
       "      <td>22.454545</td>\n",
       "      <td>13.575758</td>\n",
       "      <td>23.060606</td>\n",
       "      <td>17.060606</td>\n",
       "      <td>12.636364</td>\n",
       "      <td>7.757576</td>\n",
       "      <td>3.909091</td>\n",
       "      <td>19.545455</td>\n",
       "    </tr>\n",
       "    <tr>\n",
       "      <th>3</th>\n",
       "      <td>2016_1112_1138</td>\n",
       "      <td>0.5</td>\n",
       "      <td>2016</td>\n",
       "      <td>1112</td>\n",
       "      <td>1138</td>\n",
       "      <td>27.823529</td>\n",
       "      <td>57.941176</td>\n",
       "      <td>6.5</td>\n",
       "      <td>18.294118</td>\n",
       "      <td>25.382353</td>\n",
       "      <td>...</td>\n",
       "      <td>7.441176</td>\n",
       "      <td>17.558824</td>\n",
       "      <td>24.735294</td>\n",
       "      <td>11.970588</td>\n",
       "      <td>26.617647</td>\n",
       "      <td>12.411765</td>\n",
       "      <td>13.705882</td>\n",
       "      <td>6.647059</td>\n",
       "      <td>3.411765</td>\n",
       "      <td>21.411765</td>\n",
       "    </tr>\n",
       "    <tr>\n",
       "      <th>4</th>\n",
       "      <td>2016_1112_1139</td>\n",
       "      <td>0.5</td>\n",
       "      <td>2016</td>\n",
       "      <td>1112</td>\n",
       "      <td>1139</td>\n",
       "      <td>27.823529</td>\n",
       "      <td>57.941176</td>\n",
       "      <td>6.5</td>\n",
       "      <td>18.294118</td>\n",
       "      <td>25.382353</td>\n",
       "      <td>...</td>\n",
       "      <td>7.151515</td>\n",
       "      <td>17.151515</td>\n",
       "      <td>23.454545</td>\n",
       "      <td>11.090909</td>\n",
       "      <td>24.818182</td>\n",
       "      <td>14.181818</td>\n",
       "      <td>10.151515</td>\n",
       "      <td>6.878788</td>\n",
       "      <td>3.242424</td>\n",
       "      <td>19.636364</td>\n",
       "    </tr>\n",
       "  </tbody>\n",
       "</table>\n",
       "<p>5 rows × 29 columns</p>\n",
       "</div>"
      ],
      "text/plain": [
       "               ID  Pred  Season  Team1ID  Team2ID  T1FGM_mean  T1FGA_mean  \\\n",
       "0  2016_1112_1114   0.5    2016     1112     1114   27.823529   57.941176   \n",
       "1  2016_1112_1122   0.5    2016     1112     1122   27.823529   57.941176   \n",
       "2  2016_1112_1124   0.5    2016     1112     1124   27.823529   57.941176   \n",
       "3  2016_1112_1138   0.5    2016     1112     1138   27.823529   57.941176   \n",
       "4  2016_1112_1139   0.5    2016     1112     1139   27.823529   57.941176   \n",
       "\n",
       "   T1FGM3_mean  T1FTM_mean  T1FTA_mean  ...  T2FGM3_mean  T2FTM_mean  \\\n",
       "0          6.5   18.294118   25.382353  ...     7.424242   12.696970   \n",
       "1          6.5   18.294118   25.382353  ...     6.147059   17.588235   \n",
       "2          6.5   18.294118   25.382353  ...     6.181818   16.272727   \n",
       "3          6.5   18.294118   25.382353  ...     7.441176   17.558824   \n",
       "4          6.5   18.294118   25.382353  ...     7.151515   17.151515   \n",
       "\n",
       "   T2FTA_mean  T2OR_mean  T2DR_mean  T2Ast_mean  T2TO_mean  T2Stl_mean  \\\n",
       "0   17.424242   8.848485  24.393939   12.666667  10.121212    6.333333   \n",
       "1   26.235294  11.205882  24.705882   12.676471  14.470588    6.941176   \n",
       "2   22.454545  13.575758  23.060606   17.060606  12.636364    7.757576   \n",
       "3   24.735294  11.970588  26.617647   12.411765  13.705882    6.647059   \n",
       "4   23.454545  11.090909  24.818182   14.181818  10.151515    6.878788   \n",
       "\n",
       "   T2Blk_mean  T2PF_mean  \n",
       "0    2.909091  18.242424  \n",
       "1    2.676471  17.794118  \n",
       "2    3.909091  19.545455  \n",
       "3    3.411765  21.411765  \n",
       "4    3.242424  19.636364  \n",
       "\n",
       "[5 rows x 29 columns]"
      ]
     },
     "execution_count": 19,
     "metadata": {},
     "output_type": "execute_result"
    }
   ],
   "source": [
    "test = pd.merge(test,box_T1,on = [\"Season\",\"Team1ID\"],how = \"left\")\n",
    "test = pd.merge(test,box_T2,on = [\"Season\",\"Team2ID\"],how = \"left\")\n",
    "test.head()"
   ]
  },
  {
   "cell_type": "code",
   "execution_count": 20,
   "id": "ace0d05e",
   "metadata": {
    "execution": {
     "iopub.execute_input": "2022-02-26T17:42:14.474867Z",
     "iopub.status.busy": "2022-02-26T17:42:14.473549Z",
     "iopub.status.idle": "2022-02-26T17:42:14.487130Z",
     "shell.execute_reply": "2022-02-26T17:42:14.486659Z",
     "shell.execute_reply.started": "2022-02-26T17:37:02.485804Z"
    },
    "papermill": {
     "duration": 0.06483,
     "end_time": "2022-02-26T17:42:14.487248",
     "exception": false,
     "start_time": "2022-02-26T17:42:14.422418",
     "status": "completed"
    },
    "tags": []
   },
   "outputs": [],
   "source": [
    "test = pd.merge(test,seeds_T1,on = [\"Season\",\"Team1ID\"],how = \"left\")\n",
    "test = pd.merge(test,seeds_T2,on = [\"Season\",\"Team2ID\"],how = \"left\")\n",
    "test[\"seeddiff\"] = test[\"T1_seed\"] - test[\"T2_seed\"]"
   ]
  },
  {
   "cell_type": "code",
   "execution_count": 21,
   "id": "6e8bfca1",
   "metadata": {
    "execution": {
     "iopub.execute_input": "2022-02-26T17:42:14.585756Z",
     "iopub.status.busy": "2022-02-26T17:42:14.584817Z",
     "iopub.status.idle": "2022-02-26T17:42:14.601245Z",
     "shell.execute_reply": "2022-02-26T17:42:14.600282Z",
     "shell.execute_reply.started": "2022-02-26T17:37:02.503950Z"
    },
    "papermill": {
     "duration": 0.068974,
     "end_time": "2022-02-26T17:42:14.601368",
     "exception": false,
     "start_time": "2022-02-26T17:42:14.532394",
     "status": "completed"
    },
    "tags": []
   },
   "outputs": [],
   "source": [
    "test = pd.merge(test,ranks_T1,on = [\"Season\",\"Team1ID\"],how = \"left\")\n",
    "test = pd.merge(test,ranks_T2,on = [\"Season\",\"Team2ID\"],how = \"left\")\n",
    "test[\"rankdiff\"] = test[\"T1_rank_mean\"] - test[\"T2_rank_mean\"]"
   ]
  },
  {
   "cell_type": "code",
   "execution_count": 22,
   "id": "97c80a24",
   "metadata": {
    "execution": {
     "iopub.execute_input": "2022-02-26T17:42:14.707692Z",
     "iopub.status.busy": "2022-02-26T17:42:14.706859Z",
     "iopub.status.idle": "2022-02-26T17:42:14.729598Z",
     "shell.execute_reply": "2022-02-26T17:42:14.730119Z",
     "shell.execute_reply.started": "2022-02-26T17:37:02.523699Z"
    },
    "papermill": {
     "duration": 0.079263,
     "end_time": "2022-02-26T17:42:14.730301",
     "exception": false,
     "start_time": "2022-02-26T17:42:14.651038",
     "status": "completed"
    },
    "tags": []
   },
   "outputs": [
    {
     "data": {
      "text/html": [
       "<div>\n",
       "<style scoped>\n",
       "    .dataframe tbody tr th:only-of-type {\n",
       "        vertical-align: middle;\n",
       "    }\n",
       "\n",
       "    .dataframe tbody tr th {\n",
       "        vertical-align: top;\n",
       "    }\n",
       "\n",
       "    .dataframe thead th {\n",
       "        text-align: right;\n",
       "    }\n",
       "</style>\n",
       "<table border=\"1\" class=\"dataframe\">\n",
       "  <thead>\n",
       "    <tr style=\"text-align: right;\">\n",
       "      <th></th>\n",
       "      <th>Season</th>\n",
       "      <th>Team1ID</th>\n",
       "      <th>Team2ID</th>\n",
       "      <th>T1FGM_mean</th>\n",
       "      <th>T1FGA_mean</th>\n",
       "      <th>T1FGM3_mean</th>\n",
       "      <th>T1FTM_mean</th>\n",
       "      <th>T1FTA_mean</th>\n",
       "      <th>T1OR_mean</th>\n",
       "      <th>T1DR_mean</th>\n",
       "      <th>...</th>\n",
       "      <th>T2TO_mean</th>\n",
       "      <th>T2Stl_mean</th>\n",
       "      <th>T2Blk_mean</th>\n",
       "      <th>T2PF_mean</th>\n",
       "      <th>T1_seed</th>\n",
       "      <th>T2_seed</th>\n",
       "      <th>seeddiff</th>\n",
       "      <th>T1_rank_mean</th>\n",
       "      <th>T2_rank_mean</th>\n",
       "      <th>rankdiff</th>\n",
       "    </tr>\n",
       "  </thead>\n",
       "  <tbody>\n",
       "    <tr>\n",
       "      <th>0</th>\n",
       "      <td>2016</td>\n",
       "      <td>1112</td>\n",
       "      <td>1114</td>\n",
       "      <td>27.823529</td>\n",
       "      <td>57.941176</td>\n",
       "      <td>6.5</td>\n",
       "      <td>18.294118</td>\n",
       "      <td>25.382353</td>\n",
       "      <td>11.588235</td>\n",
       "      <td>28.617647</td>\n",
       "      <td>...</td>\n",
       "      <td>10.121212</td>\n",
       "      <td>6.333333</td>\n",
       "      <td>2.909091</td>\n",
       "      <td>18.242424</td>\n",
       "      <td>6</td>\n",
       "      <td>12</td>\n",
       "      <td>-6</td>\n",
       "      <td>17.185969</td>\n",
       "      <td>65.236495</td>\n",
       "      <td>-48.050526</td>\n",
       "    </tr>\n",
       "    <tr>\n",
       "      <th>1</th>\n",
       "      <td>2016</td>\n",
       "      <td>1112</td>\n",
       "      <td>1122</td>\n",
       "      <td>27.823529</td>\n",
       "      <td>57.941176</td>\n",
       "      <td>6.5</td>\n",
       "      <td>18.294118</td>\n",
       "      <td>25.382353</td>\n",
       "      <td>11.588235</td>\n",
       "      <td>28.617647</td>\n",
       "      <td>...</td>\n",
       "      <td>14.470588</td>\n",
       "      <td>6.941176</td>\n",
       "      <td>2.676471</td>\n",
       "      <td>17.794118</td>\n",
       "      <td>6</td>\n",
       "      <td>16</td>\n",
       "      <td>-10</td>\n",
       "      <td>17.185969</td>\n",
       "      <td>240.804612</td>\n",
       "      <td>-223.618643</td>\n",
       "    </tr>\n",
       "    <tr>\n",
       "      <th>2</th>\n",
       "      <td>2016</td>\n",
       "      <td>1112</td>\n",
       "      <td>1124</td>\n",
       "      <td>27.823529</td>\n",
       "      <td>57.941176</td>\n",
       "      <td>6.5</td>\n",
       "      <td>18.294118</td>\n",
       "      <td>25.382353</td>\n",
       "      <td>11.588235</td>\n",
       "      <td>28.617647</td>\n",
       "      <td>...</td>\n",
       "      <td>12.636364</td>\n",
       "      <td>7.757576</td>\n",
       "      <td>3.909091</td>\n",
       "      <td>19.545455</td>\n",
       "      <td>6</td>\n",
       "      <td>5</td>\n",
       "      <td>1</td>\n",
       "      <td>17.185969</td>\n",
       "      <td>29.179054</td>\n",
       "      <td>-11.993085</td>\n",
       "    </tr>\n",
       "    <tr>\n",
       "      <th>3</th>\n",
       "      <td>2016</td>\n",
       "      <td>1112</td>\n",
       "      <td>1138</td>\n",
       "      <td>27.823529</td>\n",
       "      <td>57.941176</td>\n",
       "      <td>6.5</td>\n",
       "      <td>18.294118</td>\n",
       "      <td>25.382353</td>\n",
       "      <td>11.588235</td>\n",
       "      <td>28.617647</td>\n",
       "      <td>...</td>\n",
       "      <td>13.705882</td>\n",
       "      <td>6.647059</td>\n",
       "      <td>3.411765</td>\n",
       "      <td>21.411765</td>\n",
       "      <td>6</td>\n",
       "      <td>14</td>\n",
       "      <td>-8</td>\n",
       "      <td>17.185969</td>\n",
       "      <td>143.247573</td>\n",
       "      <td>-126.061604</td>\n",
       "    </tr>\n",
       "    <tr>\n",
       "      <th>4</th>\n",
       "      <td>2016</td>\n",
       "      <td>1112</td>\n",
       "      <td>1139</td>\n",
       "      <td>27.823529</td>\n",
       "      <td>57.941176</td>\n",
       "      <td>6.5</td>\n",
       "      <td>18.294118</td>\n",
       "      <td>25.382353</td>\n",
       "      <td>11.588235</td>\n",
       "      <td>28.617647</td>\n",
       "      <td>...</td>\n",
       "      <td>10.151515</td>\n",
       "      <td>6.878788</td>\n",
       "      <td>3.242424</td>\n",
       "      <td>19.636364</td>\n",
       "      <td>6</td>\n",
       "      <td>9</td>\n",
       "      <td>-3</td>\n",
       "      <td>17.185969</td>\n",
       "      <td>30.925926</td>\n",
       "      <td>-13.739957</td>\n",
       "    </tr>\n",
       "  </tbody>\n",
       "</table>\n",
       "<p>5 rows × 33 columns</p>\n",
       "</div>"
      ],
      "text/plain": [
       "   Season  Team1ID  Team2ID  T1FGM_mean  T1FGA_mean  T1FGM3_mean  T1FTM_mean  \\\n",
       "0    2016     1112     1114   27.823529   57.941176          6.5   18.294118   \n",
       "1    2016     1112     1122   27.823529   57.941176          6.5   18.294118   \n",
       "2    2016     1112     1124   27.823529   57.941176          6.5   18.294118   \n",
       "3    2016     1112     1138   27.823529   57.941176          6.5   18.294118   \n",
       "4    2016     1112     1139   27.823529   57.941176          6.5   18.294118   \n",
       "\n",
       "   T1FTA_mean  T1OR_mean  T1DR_mean  ...  T2TO_mean  T2Stl_mean  T2Blk_mean  \\\n",
       "0   25.382353  11.588235  28.617647  ...  10.121212    6.333333    2.909091   \n",
       "1   25.382353  11.588235  28.617647  ...  14.470588    6.941176    2.676471   \n",
       "2   25.382353  11.588235  28.617647  ...  12.636364    7.757576    3.909091   \n",
       "3   25.382353  11.588235  28.617647  ...  13.705882    6.647059    3.411765   \n",
       "4   25.382353  11.588235  28.617647  ...  10.151515    6.878788    3.242424   \n",
       "\n",
       "   T2PF_mean  T1_seed  T2_seed  seeddiff  T1_rank_mean  T2_rank_mean  \\\n",
       "0  18.242424        6       12        -6     17.185969     65.236495   \n",
       "1  17.794118        6       16       -10     17.185969    240.804612   \n",
       "2  19.545455        6        5         1     17.185969     29.179054   \n",
       "3  21.411765        6       14        -8     17.185969    143.247573   \n",
       "4  19.636364        6        9        -3     17.185969     30.925926   \n",
       "\n",
       "     rankdiff  \n",
       "0  -48.050526  \n",
       "1 -223.618643  \n",
       "2  -11.993085  \n",
       "3 -126.061604  \n",
       "4  -13.739957  \n",
       "\n",
       "[5 rows x 33 columns]"
      ]
     },
     "execution_count": 22,
     "metadata": {},
     "output_type": "execute_result"
    }
   ],
   "source": [
    "test = test.drop(columns = ['ID','Pred'])\n",
    "test.head()"
   ]
  },
  {
   "cell_type": "markdown",
   "id": "49db7b98",
   "metadata": {
    "papermill": {
     "duration": 0.046066,
     "end_time": "2022-02-26T17:42:14.827366",
     "exception": false,
     "start_time": "2022-02-26T17:42:14.781300",
     "status": "completed"
    },
    "tags": []
   },
   "source": [
    "# Model&Train"
   ]
  },
  {
   "cell_type": "markdown",
   "id": "24a163e6",
   "metadata": {
    "papermill": {
     "duration": 0.04701,
     "end_time": "2022-02-26T17:42:14.920728",
     "exception": false,
     "start_time": "2022-02-26T17:42:14.873718",
     "status": "completed"
    },
    "tags": []
   },
   "source": [
    "**霊夢:やっと学習だ！<br>\n",
    "魔理沙:上手くいくかなあ**\n",
    "\n",
    "**Reimu: It's finally learning!<br>\n",
    "Marisa: I wonder if it will work**"
   ]
  },
  {
   "cell_type": "markdown",
   "id": "ba88d6f9",
   "metadata": {
    "papermill": {
     "duration": 0.045438,
     "end_time": "2022-02-26T17:42:15.012139",
     "exception": false,
     "start_time": "2022-02-26T17:42:14.966701",
     "status": "completed"
    },
    "tags": []
   },
   "source": [
    "<img src=\"https://1.bp.blogspot.com/-flCQBhvvg6U/V6BP7KK5RdI/AAAAAAAA830/exz5qqb8M0U-hyss5tb4p6St5nF9aq0-wCLcB/s800/figure_ouen.png\" width = 200>"
   ]
  },
  {
   "cell_type": "code",
   "execution_count": 23,
   "id": "64111abc",
   "metadata": {
    "execution": {
     "iopub.execute_input": "2022-02-26T17:42:15.109612Z",
     "iopub.status.busy": "2022-02-26T17:42:15.108778Z",
     "iopub.status.idle": "2022-02-26T17:42:15.111248Z",
     "shell.execute_reply": "2022-02-26T17:42:15.110838Z",
     "shell.execute_reply.started": "2022-02-26T17:37:02.551253Z"
    },
    "papermill": {
     "duration": 0.053758,
     "end_time": "2022-02-26T17:42:15.111366",
     "exception": false,
     "start_time": "2022-02-26T17:42:15.057608",
     "status": "completed"
    },
    "tags": []
   },
   "outputs": [],
   "source": [
    "# lgb_params = {\n",
    "#     'objective': 'regression',\n",
    "#     'n_estimators': config.EPOCHS,\n",
    "#     'random_state': config.SEED,\n",
    "#     'learning_rate': config.LR,\n",
    "#     'subsample': 0.44,\n",
    "#     'subsample_freq': 1,\n",
    "#     'colsample_bytree': 0.64,\n",
    "#     'reg_alpha': 0.07,\n",
    "#     'reg_lambda': 0.07,\n",
    "#     'max_depth':100,\n",
    "#     'num_leaves':356,\n",
    "#     'min_child_weight': 256,\n",
    "#     'min_child_samples': 72,\n",
    "#     'device':'cuda'\n",
    "# }\n",
    "\n",
    "catboost_params = {\n",
    "    \"subsample\": 0.44,\n",
    "    \"subsample_frequency\": 1,\n",
    "    \"depth\": 100,\n",
    "    \"num_leaves\": 356,\n",
    "    \n",
    "    \"learning_rate\": config.LR,\n",
    "    \"leaf_estimation_iterations\": config.EPOCHS,\n",
    "    \"random_seed\": config.SEED,\n",
    "    \"use_best_model\": True\n",
    "}"
   ]
  },
  {
   "cell_type": "code",
   "execution_count": 24,
   "id": "608139a8",
   "metadata": {
    "execution": {
     "iopub.execute_input": "2022-02-26T17:42:15.214352Z",
     "iopub.status.busy": "2022-02-26T17:42:15.213475Z",
     "iopub.status.idle": "2022-02-26T19:50:27.083578Z",
     "shell.execute_reply": "2022-02-26T19:50:27.084074Z",
     "shell.execute_reply.started": "2022-02-26T17:37:02.558780Z"
    },
    "papermill": {
     "duration": 7691.927177,
     "end_time": "2022-02-26T19:50:27.084250",
     "exception": false,
     "start_time": "2022-02-26T17:42:15.157073",
     "status": "completed"
    },
    "tags": []
   },
   "outputs": [],
   "source": [
    "lgb_oof = np.zeros(train.shape[0])\n",
    "val_pred = np.zeros(train.shape[0])\n",
    "lgb_pred = np.zeros(test.shape[0])\n",
    "lgb_importances = pd.DataFrame()\n",
    "models = []\n",
    "skf = StratifiedKFold(n_splits=config.FOLDS, shuffle = True , random_state=config.SEED)\n",
    "\n",
    "for fold, (trn_idx, val_idx) in enumerate(skf.split(X=train, y=train['Season'])):\n",
    "    print(f\"===== fold {fold} =====\")\n",
    "    X_train,y_train = train[features].iloc[trn_idx],train[config.TARGET].iloc[trn_idx]\n",
    "    X_valid,y_valid = train[features].iloc[val_idx],train[config.TARGET].iloc[val_idx]\n",
    "    start = time.time()\n",
    "    # model = LGBMRegressor(**lgb_params)\n",
    "    model = CatBoostRegressor(**catboost_params)\n",
    "    model.fit(\n",
    "        X_train,\n",
    "        y_train,\n",
    "        eval_set = (X_valid,y_valid),\n",
    "        eval_metric = 'rmse',\n",
    "        # early_stopping_rounds=config.EARLY_STOPPING_ROUNDS,\n",
    "        # verbosity=config.VERBOSE,\n",
    "    )\n",
    "    fi_tmp = pd.DataFrame()\n",
    "    fi_tmp['feature'] = model.feature_name_\n",
    "    fi_tmp['importance'] = model.feature_importances_\n",
    "    fi_tmp['fold'] = fold\n",
    "    fi_tmp['seed'] = config.SEED\n",
    "    lgb_importances = lgb_importances.append(fi_tmp)\n",
    "    val_pred = model.predict(X_valid) \n",
    "    lgb_pred += model.predict(test)/config.FOLDS\n",
    "    elapsed = time.time() - start\n",
    "    rmse = np.sqrt(mean_squared_error(y_valid, val_pred))\n",
    "    print(f\"fold {fold} - lgb rmse: {rmse:.6f}, elapsed time: {elapsed:.2f}sec\\n\")\n",
    "    models.append(model)\n",
    "\n",
    "# print(f\"oof lgb roc = {accuracy_score(train[config.TARGET], lgb_oof)}\")\n",
    "\n",
    "# np.save(\"lgb_oof.npy\", lgb_oof)\n",
    "# np.save(\"lgb_pred.npy\", lgb_pred)"
   ]
  },
  {
   "cell_type": "markdown",
   "id": "f5bd6571",
   "metadata": {
    "papermill": {
     "duration": 0.073364,
     "end_time": "2022-02-26T19:50:27.231101",
     "exception": false,
     "start_time": "2022-02-26T19:50:27.157737",
     "status": "completed"
    },
    "tags": []
   },
   "source": [
    "# Evaluation"
   ]
  },
  {
   "cell_type": "markdown",
   "id": "31b88196",
   "metadata": {
    "papermill": {
     "duration": 0.072875,
     "end_time": "2022-02-26T19:50:27.376772",
     "exception": false,
     "start_time": "2022-02-26T19:50:27.303897",
     "status": "completed"
    },
    "tags": []
   },
   "source": [
    "**霊夢:どの特徴量をよく使ったか見てみよう！  \n",
    "魔理沙:頑張って作った特徴量が活きてるといいなあ。**\n",
    "\n",
    "**Reimu: Let's see which features you used often!<br>\n",
    "Marisa: I hope the features I made with all my might are alive.**"
   ]
  },
  {
   "cell_type": "code",
   "execution_count": null,
   "id": "7b0ea716",
   "metadata": {
    "execution": {
     "iopub.execute_input": "2022-02-26T19:50:27.535878Z",
     "iopub.status.busy": "2022-02-26T19:50:27.532493Z",
     "iopub.status.idle": "2022-02-26T19:50:28.177678Z",
     "shell.execute_reply": "2022-02-26T19:50:28.178091Z",
     "shell.execute_reply.started": "2022-02-26T17:37:50.454602Z"
    },
    "papermill": {
     "duration": 0.728628,
     "end_time": "2022-02-26T19:50:28.178238",
     "exception": false,
     "start_time": "2022-02-26T19:50:27.449610",
     "status": "completed"
    },
    "tags": []
   },
   "outputs": [
    {
     "data": {
      "text/plain": [
       "Text(0.5, 1.0, 'LightGBM feature importances')"
      ]
     },
     "execution_count": 24,
     "metadata": {},
     "output_type": "execute_result"
    },
    {
     "data": {
      "image/png": "[encoded data removed]",
      "text/plain": [
       "<Figure size 1152x2304 with 1 Axes>"
      ]
     },
     "metadata": {
      "needs_background": "light"
     },
     "output_type": "display_data"
    }
   ],
   "source": [
    "order = list(lgb_importances.groupby('feature').mean().sort_values('importance', ascending=False).index)\n",
    "\n",
    "fig = plt.figure(figsize=(16, 32), tight_layout=True)\n",
    "sns.barplot(x=\"importance\", y=\"feature\", data=lgb_importances.groupby('feature').mean().reset_index(), order=order)\n",
    "plt.title(\"LightGBM feature importances\")"
   ]
  },
  {
   "cell_type": "markdown",
   "id": "b46697b6",
   "metadata": {
    "papermill": {
     "duration": 0.077813,
     "end_time": "2022-02-26T19:50:28.332542",
     "exception": false,
     "start_time": "2022-02-26T19:50:28.254729",
     "status": "completed"
    },
    "tags": []
   },
   "source": [
    "**霊夢:rankが結構使われているみたいだね。  \n",
    "魔理沙:そうだね逆にseedはあんまりかな。**\n",
    "\n",
    "**Reimu: It seems that rank is used quite a bit.  \n",
    "Marisa: That's right, on the contrary, seed is not so much.**\n",
    "\n",
    "<img src=\"https://1.bp.blogspot.com/-N08ojzWTStM/VdLrmt8nTzI/AAAAAAAAwuU/1o3JOcdtHNM/s400/business_senryaku_sakuryaku_man.png\" width=200>"
   ]
  },
  {
   "cell_type": "markdown",
   "id": "d6a46ccf",
   "metadata": {
    "papermill": {
     "duration": 0.075983,
     "end_time": "2022-02-26T19:50:28.484653",
     "exception": false,
     "start_time": "2022-02-26T19:50:28.408670",
     "status": "completed"
    },
    "tags": []
   },
   "source": [
    "# Inference"
   ]
  },
  {
   "cell_type": "markdown",
   "id": "a53fee3c",
   "metadata": {
    "papermill": {
     "duration": 0.075884,
     "end_time": "2022-02-26T19:50:28.636420",
     "exception": false,
     "start_time": "2022-02-26T19:50:28.560536",
     "status": "completed"
    },
    "tags": []
   },
   "source": [
    "**魔理沙:最後にsubmissionファイルを作ろう！<br>\n",
    "霊夢:最後まで頑張るぞ！**\n",
    "\n",
    "**Marisa: Finally, let's create a submission file! <br>\n",
    "Reimu: I'll do my best until the end!**"
   ]
  },
  {
   "cell_type": "markdown",
   "id": "51703207",
   "metadata": {
    "papermill": {
     "duration": 0.075664,
     "end_time": "2022-02-26T19:50:28.788167",
     "exception": false,
     "start_time": "2022-02-26T19:50:28.712503",
     "status": "completed"
    },
    "tags": []
   },
   "source": [
    "<img src = \"https://4.bp.blogspot.com/-mg-ul7z64Oc/WzC-BvpjsgI/AAAAAAABM94/-OPzexySWfUXUdf6qzZ45CfERCUyoNpBQCLcBGAs/s400/yaruki_moeru_woman.png\" width=200>"
   ]
  },
  {
   "cell_type": "code",
   "execution_count": null,
   "id": "79e318b3",
   "metadata": {
    "execution": {
     "iopub.execute_input": "2022-02-26T19:50:28.959322Z",
     "iopub.status.busy": "2022-02-26T19:50:28.958802Z",
     "iopub.status.idle": "2022-02-26T19:50:29.023534Z",
     "shell.execute_reply": "2022-02-26T19:50:29.023078Z",
     "shell.execute_reply.started": "2022-02-26T17:37:51.108068Z"
    },
    "papermill": {
     "duration": 0.159325,
     "end_time": "2022-02-26T19:50:29.023669",
     "exception": false,
     "start_time": "2022-02-26T19:50:28.864344",
     "status": "completed"
    },
    "tags": []
   },
   "outputs": [
    {
     "data": {
      "text/html": [
       "<div>\n",
       "<style scoped>\n",
       "    .dataframe tbody tr th:only-of-type {\n",
       "        vertical-align: middle;\n",
       "    }\n",
       "\n",
       "    .dataframe tbody tr th {\n",
       "        vertical-align: top;\n",
       "    }\n",
       "\n",
       "    .dataframe thead th {\n",
       "        text-align: right;\n",
       "    }\n",
       "</style>\n",
       "<table border=\"1\" class=\"dataframe\">\n",
       "  <thead>\n",
       "    <tr style=\"text-align: right;\">\n",
       "      <th></th>\n",
       "      <th>ID</th>\n",
       "      <th>Pred</th>\n",
       "    </tr>\n",
       "  </thead>\n",
       "  <tbody>\n",
       "    <tr>\n",
       "      <th>0</th>\n",
       "      <td>2016_1112_1114</td>\n",
       "      <td>0.674361</td>\n",
       "    </tr>\n",
       "    <tr>\n",
       "      <th>1</th>\n",
       "      <td>2016_1112_1122</td>\n",
       "      <td>0.972007</td>\n",
       "    </tr>\n",
       "    <tr>\n",
       "      <th>2</th>\n",
       "      <td>2016_1112_1124</td>\n",
       "      <td>0.476239</td>\n",
       "    </tr>\n",
       "    <tr>\n",
       "      <th>3</th>\n",
       "      <td>2016_1112_1138</td>\n",
       "      <td>0.926090</td>\n",
       "    </tr>\n",
       "    <tr>\n",
       "      <th>4</th>\n",
       "      <td>2016_1112_1139</td>\n",
       "      <td>0.615182</td>\n",
       "    </tr>\n",
       "  </tbody>\n",
       "</table>\n",
       "</div>"
      ],
      "text/plain": [
       "               ID      Pred\n",
       "0  2016_1112_1114  0.674361\n",
       "1  2016_1112_1122  0.972007\n",
       "2  2016_1112_1124  0.476239\n",
       "3  2016_1112_1138  0.926090\n",
       "4  2016_1112_1139  0.615182"
      ]
     },
     "execution_count": 25,
     "metadata": {},
     "output_type": "execute_result"
    }
   ],
   "source": [
    "for pred_num in range(len(lgb_pred)):\n",
    "    if lgb_pred[pred_num]<0:\n",
    "        lgb_pred[pred_num]=0\n",
    "    if lgb_pred[pred_num]>1:\n",
    "        lgb_pred[pred_num]=1\n",
    "        \n",
    "df_submission = pd.read_csv(DATA_PATH + \"MDataFiles_Stage1/MSampleSubmissionStage1.csv\")\n",
    "df_submission['Pred'] = lgb_pred\n",
    "df_submission.to_csv(\"./output/#11_submission.csv\",index = None)\n",
    "df_submission.head()"
   ]
  },
  {
   "cell_type": "markdown",
   "id": "6c6714a3",
   "metadata": {
    "papermill": {
     "duration": 0.076755,
     "end_time": "2022-02-26T19:50:29.177252",
     "exception": false,
     "start_time": "2022-02-26T19:50:29.100497",
     "status": "completed"
    },
    "tags": []
   },
   "source": [
    "**霊夢:どんな特徴量を作ったら精度が上がるのかな？  \n",
    "魔理沙:それはたくさんの人のcodeを見て学ばないとね。\n",
    "霊夢:もっと頑張らなくちゃだね。**\n",
    "\n",
    "**Reimu: What kind of features should I make to improve the accuracy?  \n",
    "Marisa: It has to be learned by looking at the codes of many people.  \n",
    "Reimu: I have to work harder.**\n",
    "\n",
    "**霊夢&魔理沙:ご覧いただきありがとうございました！良ければUpvoteをよろしくお願いします！**<br>\n",
    "**Reimu & Marisa: Thank you for visiting! If you like, thank you for Upvote!**"
   ]
  },
  {
   "cell_type": "markdown",
   "id": "402a0107",
   "metadata": {
    "id": "1aNcrxfQOVvu",
    "papermill": {
     "duration": 0.076656,
     "end_time": "2022-02-26T19:50:29.330358",
     "exception": false,
     "start_time": "2022-02-26T19:50:29.253702",
     "status": "completed"
    },
    "tags": []
   },
   "source": [
    "![](https://1.bp.blogspot.com/-PNcKwFw1PpM/U1T3oDIr9CI/AAAAAAAAfT4/gEn86X8Ppx0/s400/figure_goodjob.png)"
   ]
  }
 ],
 "metadata": {
  "kernelspec": {
   "display_name": "Python 3",
   "language": "python",
   "name": "python3"
  },
  "language_info": {
   "codemirror_mode": {
    "name": "ipython",
    "version": 3
   },
   "file_extension": ".py",
   "mimetype": "text/x-python",
   "name": "python",
   "nbconvert_exporter": "python",
   "pygments_lexer": "ipython3",
   "version": "3.8.10"
  },
  "papermill": {
   "default_parameters": {},
   "duration": 7716.500318,
   "end_time": "2022-02-26T19:50:30.730351",
   "environment_variables": {},
   "exception": null,
   "input_path": "__notebook__.ipynb",
   "output_path": "__notebook__.ipynb",
   "parameters": {},
   "start_time": "2022-02-26T17:41:54.230033",
   "version": "2.3.3"
  }
 },
 "nbformat": 4,
 "nbformat_minor": 5
}
